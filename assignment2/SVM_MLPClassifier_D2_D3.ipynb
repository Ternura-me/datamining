{
 "cells": [
  {
   "cell_type": "code",
   "execution_count": 1,
   "metadata": {},
   "outputs": [],
   "source": [
    "import pandas as pd\n",
    "import numpy as np\n",
    "from sklearn.svm import SVC\n",
    "from sklearn.neural_network import MLPClassifier\n",
    "from sklearn.model_selection import train_test_split\n",
    "from sklearn.preprocessing import StandardScaler\n",
    "from sklearn.metrics import confusion_matrix"
   ]
  },
  {
   "cell_type": "code",
   "execution_count": 2,
   "metadata": {},
   "outputs": [],
   "source": [
    "D2 = pd.read_csv(\"D2.data\",header=None)\n",
    "D3 = pd.read_csv(\"D3.csv\", sep=\";\")"
   ]
  },
  {
   "cell_type": "code",
   "execution_count": 3,
   "metadata": {},
   "outputs": [],
   "source": [
    "#构建分类器\n",
    "clf = SVC(C=1, cache_size=200, class_weight=None, coef0=0.0,\n",
    "                decision_function_shape='ovr', degree=3, gamma=0.1,\n",
    "                kernel='linear', max_iter=-1, probability=False, random_state=None,\n",
    "                shrinking=True, tol=0.001, verbose=False)\n",
    "\n",
    "clf2 = MLPClassifier(solver='lbfgs',activation = 'logistic',max_iter = 2000,alpha = 1e-5,\n",
    "                     hidden_layer_sizes = (100,),random_state = 1)"
   ]
  },
  {
   "cell_type": "code",
   "execution_count": 4,
   "metadata": {},
   "outputs": [
    {
     "name": "stdout",
     "output_type": "stream",
     "text": [
      "鸢尾花数据集上SVM的准确率为： 0.9777777777777777\n",
      "混淆矩阵为：\n",
      " [[16  0  0]\n",
      " [ 0 17  1]\n",
      " [ 0  0 11]]\n"
     ]
    }
   ],
   "source": [
    "#鸢尾花数据集\n",
    "X1 = D2.iloc[:, 0:-1]\n",
    "Y1 = D2.iloc[:, -1]\n",
    "\n",
    "#划分训练集和测试集\n",
    "X1_train, X1_test, Y1_train, Y1_test = train_test_split(X1, Y1, test_size=0.3, random_state=0)\n",
    "\n",
    "#用SVM模型拟合\n",
    "clf.fit(X1_train, Y1_train)\n",
    "#用MLPClassifier模型拟合\n",
    "clf2.fit(X1_train, Y1_train)\n",
    "\n",
    "#用测试集测试\n",
    "prediction1_1 = clf.score(X1_test, Y1_test)\n",
    "Y1_predict_1 = list(clf.predict(X1_test))\n",
    "cm1_1 = confusion_matrix(Y1_test, Y1_predict_1)\n",
    "print(\"鸢尾花数据集上SVM的准确率为：\",prediction1_1)\n",
    "print(\"混淆矩阵为：\\n\", cm1_1)"
   ]
  },
  {
   "cell_type": "code",
   "execution_count": 5,
   "metadata": {},
   "outputs": [
    {
     "name": "stdout",
     "output_type": "stream",
     "text": [
      "鸢尾花数据集上MLPClassifier的准确率为： 0.9777777777777777\n",
      "混淆矩阵为：\n",
      " [[16  0  0]\n",
      " [ 0 17  1]\n",
      " [ 0  0 11]]\n"
     ]
    }
   ],
   "source": [
    "#用测试集测试\n",
    "prediction1_2 = clf2.score(X1_test, Y1_test)\n",
    "Y1_predict_2 = list(clf2.predict(X1_test))\n",
    "cm1_2 = confusion_matrix(Y1_test, Y1_predict_2)\n",
    "print(\"鸢尾花数据集上MLPClassifier的准确率为：\",prediction1_2)\n",
    "print(\"混淆矩阵为：\\n\", cm1_2)"
   ]
  },
  {
   "cell_type": "code",
   "execution_count": 6,
   "metadata": {},
   "outputs": [
    {
     "name": "stdout",
     "output_type": "stream",
     "text": [
      "葡萄酒数据集上SVM的准确率为： 0.625\n",
      "混淆矩阵为：\n",
      " [[  0   0   3   0   0   0]\n",
      " [  0   0  11   4   0   0]\n",
      " [  0   0 165  43   0   0]\n",
      " [  0   0  68 131   5   0]\n",
      " [  0   0   2  39   4   0]\n",
      " [  0   0   0   4   1   0]]\n"
     ]
    },
    {
     "name": "stderr",
     "output_type": "stream",
     "text": [
      "D:\\Anaconda\\lib\\site-packages\\sklearn\\neural_network\\_multilayer_perceptron.py:470: ConvergenceWarning: lbfgs failed to converge (status=1):\n",
      "STOP: TOTAL NO. of ITERATIONS REACHED LIMIT.\n",
      "\n",
      "Increase the number of iterations (max_iter) or scale the data as shown in:\n",
      "    https://scikit-learn.org/stable/modules/preprocessing.html\n",
      "  self.n_iter_ = _check_optimize_result(\"lbfgs\", opt_res, self.max_iter)\n"
     ]
    }
   ],
   "source": [
    "#葡萄酒数据集\n",
    "X2 = D3.iloc[:, 0:-1]\n",
    "Y2 = D3.iloc[:, -1]\n",
    "\n",
    "#划分训练集和测试集\n",
    "X2_train, X2_test, Y2_train, Y2_test = train_test_split(X2, Y2, test_size=0.3, random_state=0)\n",
    "\n",
    "#用SVM模型拟合\n",
    "clf.fit(X2_train, Y2_train)\n",
    "#用MLPClassifier模型拟合\n",
    "clf2.fit(X2_train, Y2_train)\n",
    "\n",
    "#用测试集测试\n",
    "prediction2_1 = clf.score(X2_test, Y2_test)\n",
    "Y2_predict_1 = list(clf.predict(X2_test))\n",
    "cm2_1 = confusion_matrix(Y2_test, Y2_predict_1)\n",
    "print(\"葡萄酒数据集上SVM的准确率为：\", prediction2_1)\n",
    "print(\"混淆矩阵为：\\n\", cm2_1)"
   ]
  },
  {
   "cell_type": "code",
   "execution_count": 7,
   "metadata": {},
   "outputs": [
    {
     "name": "stdout",
     "output_type": "stream",
     "text": [
      "葡萄酒数据集上MLPClassifier的准确率为： 0.6229166666666667\n",
      "混淆矩阵为：\n",
      " [[  0   0   2   0   1   0]\n",
      " [  1   1   6   5   2   0]\n",
      " [  1   3 146  51   6   1]\n",
      " [  0   1  56 125  19   3]\n",
      " [  0   0   3  15  27   0]\n",
      " [  0   0   1   1   3   0]]\n"
     ]
    }
   ],
   "source": [
    "#用测试集测试\n",
    "prediction2_2 = clf2.score(X2_test, Y2_test)\n",
    "Y2_predict_2 = list(clf2.predict(X2_test))\n",
    "cm2_2 = confusion_matrix(Y2_test, Y2_predict_2)\n",
    "print(\"葡萄酒数据集上MLPClassifier的准确率为：\", prediction2_2)\n",
    "print(\"混淆矩阵为：\\n\", cm2_2)"
   ]
  },
  {
   "cell_type": "markdown",
   "metadata": {},
   "source": [
    "## 性能比较"
   ]
  },
  {
   "cell_type": "code",
   "execution_count": 8,
   "metadata": {},
   "outputs": [],
   "source": [
    "import matplotlib.pyplot as plt"
   ]
  },
  {
   "cell_type": "code",
   "execution_count": 10,
   "metadata": {},
   "outputs": [
    {
     "data": {
      "image/png": "[encoded data removed]",
      "text/plain": [
       "<Figure size 432x288 with 1 Axes>"
      ]
     },
     "metadata": {
      "needs_background": "light"
     },
     "output_type": "display_data"
    }
   ],
   "source": [
    "x = np.arange(2)\n",
    "pre_svm_D2 = [prediction1_1, prediction2_1]\n",
    "pre_mlp_D3 = [prediction1_2, prediction2_2]\n",
    "\n",
    "bar_width = 0.45\n",
    "tick_label = ['D2', 'D3']\n",
    "\n",
    "plt.bar(x, pre_svm_D2, bar_width, align=\"center\", color=\"c\", label=\"SVM\", alpha=0.5)\n",
    "plt.bar(x+bar_width, pre_mlp_D3, bar_width, align=\"center\", color=\"b\", label=\"MLPClassifier\", alpha=0.5)\n",
    "\n",
    "plt.xlabel(\"dataset\")\n",
    "plt.ylabel(\"Accuracy\")\n",
    "\n",
    "plt.xticks(x+bar_width/2, tick_label)\n",
    "\n",
    "plt.legend()\n",
    "plt.savefig('./D1_DT_NB.svg')\n",
    "plt.show()"
   ]
  },
  {
   "cell_type": "code",
   "execution_count": null,
   "metadata": {},
   "outputs": [],
   "source": []
  }
 ],
 "metadata": {
  "kernelspec": {
   "display_name": "Python 3",
   "language": "python",
   "name": "python3"
  },
  "language_info": {
   "codemirror_mode": {
    "name": "ipython",
    "version": 3
   },
   "file_extension": ".py",
   "mimetype": "text/x-python",
   "name": "python",
   "nbconvert_exporter": "python",
   "pygments_lexer": "ipython3",
   "version": "3.7.6"
  }
 },
 "nbformat": 4,
 "nbformat_minor": 4
}
