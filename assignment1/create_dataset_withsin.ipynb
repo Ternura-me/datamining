{
 "cells": [
  {
   "cell_type": "code",
   "execution_count": 1,
   "metadata": {},
   "outputs": [],
   "source": [
    "import numpy as np\n",
    "import pandas as pd\n",
    "import math\n",
    "import random\n",
    "import csv\n",
    "import matplotlib.pyplot as plt"
   ]
  },
  {
   "cell_type": "code",
   "execution_count": 2,
   "metadata": {},
   "outputs": [
    {
     "data": {
      "text/plain": [
       "([-6.033490929384736,\n",
       "  -5.619979604676555,\n",
       "  -4.77225763905483,\n",
       "  -4.120787470146374,\n",
       "  -3.7312599702801137,\n",
       "  -2.71753568836227,\n",
       "  -2.328079811274407,\n",
       "  -1.6814617835560894,\n",
       "  -1.0990959457338678,\n",
       "  -0.21320808398186664,\n",
       "  0.17624588176065725,\n",
       "  1.17403515525701,\n",
       "  1.7836715333784934,\n",
       "  2.221067145747939,\n",
       "  2.6435332552625024,\n",
       "  3.6512009936484238,\n",
       "  3.8190723135628994,\n",
       "  4.441637297170316,\n",
       "  5.654059517927275,\n",
       "  5.818207538226144],\n",
       " [1.2032543434351992,\n",
       "  1.5945086383317673,\n",
       "  2.9206568577836958,\n",
       "  2.068719096532934,\n",
       "  1.1651771022133035,\n",
       "  -0.80418702616663,\n",
       "  -0.7098405931538314,\n",
       "  -1.4237323397781396,\n",
       "  -1.2827152467276501,\n",
       "  0.44429706491317955,\n",
       "  0.896794022677892,\n",
       "  2.769380533748544,\n",
       "  2.8858766934229423,\n",
       "  2.04467583179132,\n",
       "  1.4512151892607847,\n",
       "  0.01191989061246368,\n",
       "  -1.237034138541563,\n",
       "  -1.039345847140789,\n",
       "  -0.7706150752378178,\n",
       "  -0.36532497668697694])"
      ]
     },
     "execution_count": 2,
     "metadata": {},
     "output_type": "execute_result"
    }
   ],
   "source": [
    "def getdataset(A, w, p, l):          #A:振幅 w:角速度 p:初相 l:几个周期\n",
    "    T = 2*math.pi/abs(w)             #周期\n",
    "    r = l*T/2                          #定义域\n",
    "    x_dataset = []                   #存储自变量\n",
    "    y_dataset = []                   #存储因变量\n",
    "    #将定义域等分为20份，从每一份中随机取一个自变量\n",
    "    for i in range(-10, 10, 1):\n",
    "        left = i*r/10                #左边界\n",
    "        right = (i+1)*r/10          #右边界\n",
    "        C = random.uniform(0, 1)    #随机扰动值\n",
    "        x = random.uniform(left, right)\n",
    "        y = A*math.sin(w*x+p)+C\n",
    "        x_dataset.append(x)\n",
    "        y_dataset.append(y)\n",
    "    return x_dataset,y_dataset\n",
    "dataset = getdataset(2, 1, 0, 2)\n",
    "dataset"
   ]
  },
  {
   "cell_type": "code",
   "execution_count": 3,
   "metadata": {},
   "outputs": [],
   "source": [
    "#将两个一维列标转化为一个二维列表便于存储为CSV文件\n",
    "newdataset = list(zip(dataset[0],dataset[1]))\n",
    "#将生成的数据集保存为D1.csv文件\n",
    "with open(\"./D1.csv\", \"a\", newline='', encoding='utf-8') as file:\n",
    "    writer = csv.writer(file ,delimiter=',')\n",
    "    writer.writerows(newdataset)"
   ]
  },
  {
   "cell_type": "code",
   "execution_count": 2,
   "metadata": {},
   "outputs": [
    {
     "data": {
      "image/png": "[encoded data removed]",
      "text/plain": [
       "<Figure size 432x288 with 1 Axes>"
      ]
     },
     "metadata": {
      "needs_background": "light"
     },
     "output_type": "display_data"
    }
   ],
   "source": [
    "#绘制正弦曲线\n",
    "data = pd.read_csv(\"D1.csv\",header=None)\n",
    "\n",
    "x=np.arange(-2*np.pi,2*np.pi,0.01)\n",
    "y=2*np.sin(x)\n",
    "x1 = data.iloc[:,0:1]\n",
    "y1 = data.iloc[:,1]\n",
    "plt.plot(x,y)\n",
    "plt.scatter(x1,y1)\n",
    "plt.savefig('./data.svg')\n",
    "plt.show()"
   ]
  }
 ],
 "metadata": {
  "kernelspec": {
   "display_name": "Python 3",
   "language": "python",
   "name": "python3"
  },
  "language_info": {
   "codemirror_mode": {
    "name": "ipython",
    "version": 3
   },
   "file_extension": ".py",
   "mimetype": "text/x-python",
   "name": "python",
   "nbconvert_exporter": "python",
   "pygments_lexer": "ipython3",
   "version": "3.7.6"
  }
 },
 "nbformat": 4,
 "nbformat_minor": 4
}
