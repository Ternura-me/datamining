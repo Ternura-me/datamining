{
 "cells": [
  {
   "cell_type": "markdown",
   "metadata": {},
   "source": [
    "## 一元多项式回归"
   ]
  },
  {
   "cell_type": "code",
   "execution_count": 1,
   "metadata": {},
   "outputs": [],
   "source": [
    "import math\n",
    "import pandas as pd\n",
    "import numpy as np\n",
    "import matplotlib.pyplot as plt\n",
    "from sklearn.model_selection import train_test_split"
   ]
  },
  {
   "cell_type": "markdown",
   "metadata": {},
   "source": [
    "### m=1"
   ]
  },
  {
   "cell_type": "code",
   "execution_count": 2,
   "metadata": {},
   "outputs": [
    {
     "name": "stdout",
     "output_type": "stream",
     "text": [
      "m=1：\n",
      "回归系数为： -0.08719606002982365\n",
      "MAE: 1.1270372469167462\n",
      "RMSE: 2.6099588677515557\n"
     ]
    }
   ],
   "source": [
    "#读入数据集\n",
    "D1 = pd.read_csv('D1.csv',header=None, names=['X','Y'])\n",
    "\n",
    "#将数据集按照80%:20%的比例划分为训练集和测试集\n",
    "D1_train, D1_test = train_test_split(D1, test_size=0.2)\n",
    "\n",
    "x_train = D1_train['X']\n",
    "y_train = D1_train['Y']\n",
    "x_test = D1_test['X']\n",
    "y_test = D1_test['Y']\n",
    "\n",
    "#使用普通最小二乘法估计\n",
    "class SLR:\n",
    "    def __init__(self):\n",
    "        return\n",
    "    \n",
    "    def fit(X, y):\n",
    "        if len(X) == len(y):\n",
    "            X_mean = np.mean(X)\n",
    "            y_mean = np.mean(y)\n",
    "            a1 = 0.0\n",
    "            a2 = 0.0\n",
    "            for i in range(len(X)):\n",
    "                a1 += ((X[i]-X_mean)*(y[i]-y_mean))      #分子\n",
    "                a2 += np.square(X[i]-X_mean)             #分母\n",
    "            a = a1/a2\n",
    "            b = y_mean - a*X_mean\n",
    "        return a,b\n",
    "\n",
    "    def predict(X, a, b):\n",
    "        return a*X+b\n",
    "\n",
    "print(\"m=1：\")\n",
    "#确定回归系数和误差值\n",
    "parameter1 = SLR.fit(list(x_train),list(y_train))\n",
    "print(\"回归系数为：\",parameter1[0])\n",
    "\n",
    "#求MAE和RMSE\n",
    "MAE = []\n",
    "RMSE = []\n",
    "y_real = list(y_test)\n",
    "y_predict =[]\n",
    "for item in list(x_test):\n",
    "    z =  SLR.predict(item, parameter1[0], parameter1[1])\n",
    "    y_predict.append(z)\n",
    "l = len(y_real)\n",
    "sum1 = 0\n",
    "sum2 = 0\n",
    "for i in range(l):\n",
    "    sub1 = abs(y_real[i]-y_predict[i])\n",
    "    sum1 += sub1\n",
    "MAE1 = sum1/l\n",
    "MAE.append(MAE1)\n",
    "print(\"MAE:\", MAE1)\n",
    "for j in range(l):\n",
    "    sub2 = (y_real[j]-y_predict[j])**2\n",
    "    sum2 += sub2\n",
    "RMSE1 = math.sqrt(sum2)\n",
    "RMSE.append(RMSE1)\n",
    "print(\"RMSE:\", RMSE1)"
   ]
  },
  {
   "cell_type": "code",
   "execution_count": 3,
   "metadata": {},
   "outputs": [
    {
     "data": {
      "image/png": "[encoded data removed]",
      "text/plain": [
       "<Figure size 432x288 with 1 Axes>"
      ]
     },
     "metadata": {
      "needs_background": "light"
     },
     "output_type": "display_data"
    }
   ],
   "source": [
    "plt.plot(x_test, y_predict)\n",
    "plt.savefig('./m=1.svg')\n",
    "plt.show()"
   ]
  },
  {
   "cell_type": "markdown",
   "metadata": {},
   "source": [
    "### 1<m<5"
   ]
  },
  {
   "cell_type": "code",
   "execution_count": 4,
   "metadata": {},
   "outputs": [],
   "source": [
    "X1=list(D1['X'])\n",
    "#计算自变量的2、3、4、5次方并将结果保存在二维数组X中\n",
    "X=[[],[],[],[]]\n",
    "a=1\n",
    "for j in range(4):\n",
    "    a+=1\n",
    "    for i in range(len(X1)):\n",
    "        item=X1[i]**a\n",
    "        X[j].append(item)\n",
    "X = np.array(X)\n",
    "\n",
    "#将自变量保存在数组X中\n",
    "X = np.insert(X, 0, values=X1, axis=0)\n",
    "X=X.T\n",
    "#形成新的数据集D2\n",
    "X=pd.DataFrame(X)\n",
    "D2 = X.join(D1['Y'])\n",
    "#划分数据集为训练集和测试集\n",
    "D2_train, D2_test = train_test_split(D2, test_size=0.2)\n",
    "x2_train = D2_train.iloc[:,:-1]\n",
    "y2_train = D2_train['Y']\n",
    "x2_test = D2_test.iloc[:,:-1]\n",
    "y2_test = D2_test['Y']\n",
    "#将因变量保存在数组Y中\n",
    "Y=np.array(list(y2_train))\n",
    "Y=Y.reshape(len(Y), 1)"
   ]
  },
  {
   "cell_type": "code",
   "execution_count": 5,
   "metadata": {},
   "outputs": [],
   "source": [
    "#自定义求参数的方法\n",
    "def getpar(data_x, data_y, m):\n",
    "    x=data_x.iloc[:,:m]\n",
    "    y=data_y\n",
    "    ones = np.ones(x.shape[0]).reshape(-1,1)\n",
    "    x = np.hstack((x,ones))\n",
    "    w_ = np.dot(np.dot(np.linalg.inv(np.dot(x.T, x)), x.T), y)\n",
    "    print(\"m=\",m,\"时：\")\n",
    "    print(\"系数矩阵为：\\n\",w_)\n",
    "    return w_\n",
    "\n",
    "#自定义求预测值的方法\n",
    "def predict(x_test, w_):\n",
    "    x = x_test\n",
    "    y_pre = np.dot(x, w_)\n",
    "    return y_pre"
   ]
  },
  {
   "cell_type": "code",
   "execution_count": 6,
   "metadata": {},
   "outputs": [
    {
     "name": "stdout",
     "output_type": "stream",
     "text": [
      "m= 2 时：\n",
      "系数矩阵为：\n",
      " [[-0.05845815]\n",
      " [-0.00481203]\n",
      " [ 0.76536849]]\n",
      "m= 3 时：\n",
      "系数矩阵为：\n",
      " [[ 0.76459748]\n",
      " [ 0.07773175]\n",
      " [-0.04302532]\n",
      " [ 0.3022875 ]]\n",
      "m= 4 时：\n",
      "系数矩阵为：\n",
      " [[ 0.8931465 ]\n",
      " [-0.11743012]\n",
      " [-0.05670093]\n",
      " [ 0.00728729]\n",
      " [ 0.87018621]]\n",
      "m= 5 时：\n",
      "系数矩阵为：\n",
      " [[ 1.65535349e+00]\n",
      " [-2.36517653e-02]\n",
      " [-1.92825917e-01]\n",
      " [ 2.36146820e-04]\n",
      " [ 4.20476946e-03]\n",
      " [ 6.99474611e-01]]\n"
     ]
    }
   ],
   "source": [
    "#分别求m为2,3,4,5时的参数值，并将结果保存在wb中\n",
    "w_ = []\n",
    " \n",
    "for i in range(2, 6):\n",
    "    get = getpar(x2_train, Y, i)\n",
    "    w_.append(get)"
   ]
  },
  {
   "cell_type": "code",
   "execution_count": 7,
   "metadata": {},
   "outputs": [],
   "source": [
    "#分别求m=2,3,4,5时的预测值并将结果保存在列表y_predict中\n",
    "m=2\n",
    "y2_predict = []\n",
    "for i in range(2,6):\n",
    "    x2=x2_test.iloc[:,:i]\n",
    "    ones=np.ones((len(x2),1))\n",
    "    new_x2=np.hstack([x2,ones])\n",
    "    y2_predict.append(predict(new_x2, w_[i-2]))\n",
    "    m += 1"
   ]
  },
  {
   "cell_type": "code",
   "execution_count": 8,
   "metadata": {},
   "outputs": [
    {
     "name": "stdout",
     "output_type": "stream",
     "text": [
      "m= 2 时 MAE为: 0.9026250099257718\n",
      "m= 3 时 MAE为: 6.511510396636463\n",
      "m= 4 时 MAE为: 11.872619472098513\n",
      "m= 5 时 MAE为: 12.871313309610743\n",
      "m= 2 时 RMSE为: 1.469621799915012\n",
      "m= 3 时 RMSE为: 2.078359080998969\n",
      "m= 4 时 RMSE为: 2.5454596253636232\n",
      "m= 5 时 RMSE为: 2.9392435998300237\n"
     ]
    }
   ],
   "source": [
    "#分别求m=2,3,4,5时的MAE和RMSE的值\n",
    "y2_real=list(y2_test)\n",
    "l2 = len(y2_real)\n",
    "sum3 = 0\n",
    "sum4 = 0\n",
    "m = 2\n",
    "n = 2\n",
    "for i in range(l2):\n",
    "    for j in range(l2):\n",
    "        sub3 = abs(y2_real[i]-y2_predict[i][j])\n",
    "        sum3 += sub3\n",
    "    mae = float(sum3/l2)\n",
    "    MAE.append(mae)\n",
    "    print(\"m=\",m,\"时\",\"MAE为:\", mae)\n",
    "    m += 1\n",
    "for i in range(l2):\n",
    "    for j in range(l2):\n",
    "        sub4 = (y2_real[i]-y2_predict[i][j])**2\n",
    "        sum4 += sub1\n",
    "    rmse = math.sqrt(sum4)\n",
    "    RMSE.append(rmse)\n",
    "    print(\"m=\",n,\"时\",\"RMSE为:\", rmse)\n",
    "    n += 1"
   ]
  },
  {
   "cell_type": "code",
   "execution_count": 9,
   "metadata": {},
   "outputs": [
    {
     "data": {
      "image/png": "[encoded data removed]",
      "text/plain": [
       "<Figure size 720x432 with 1 Axes>"
      ]
     },
     "metadata": {
      "needs_background": "light"
     },
     "output_type": "display_data"
    }
   ],
   "source": [
    "#绘制不同m时的拟合曲线\n",
    "X1 = np.linspace(-np.pi*2, np.pi*2, 200, endpoint=True).reshape(-1,1)\n",
    "X2=X1**2\n",
    "X3=X1**3\n",
    "X4=X1**4\n",
    "X5=X1**5\n",
    "ones=np.ones((len(X1),1))\n",
    "new_X=np.hstack([X1,X2,X3,X4,X5])\n",
    "new_X=pd.DataFrame(new_X)\n",
    "labels=['m=2','m=3','m=4','m=5']\n",
    "plt.figure(figsize=(10, 6))\n",
    "plt.scatter(D1['X'],D1['Y'])\n",
    "for i in range(2,6):\n",
    "    xx=new_X.iloc[:,:i]\n",
    "    new_x=np.hstack([xx,ones])\n",
    "    p = predict(new_x, w_[i-2])\n",
    "    plt.plot(X1,p,label=labels[i-2])\n",
    "    plt.legend()\n",
    "plt.savefig('./fit.svg')"
   ]
  },
  {
   "cell_type": "code",
   "execution_count": 10,
   "metadata": {},
   "outputs": [
    {
     "data": {
      "text/plain": [
       "[1.1270372469167462,\n",
       " 0.9026250099257718,\n",
       " 6.511510396636463,\n",
       " 11.872619472098513,\n",
       " 12.871313309610743]"
      ]
     },
     "execution_count": 10,
     "metadata": {},
     "output_type": "execute_result"
    }
   ],
   "source": [
    "#绘制不同m取值对应不同MAE、RMSE的条形图\n",
    "MAE"
   ]
  },
  {
   "cell_type": "code",
   "execution_count": 11,
   "metadata": {},
   "outputs": [
    {
     "data": {
      "text/plain": [
       "[2.6099588677515557,\n",
       " 1.469621799915012,\n",
       " 2.078359080998969,\n",
       " 2.5454596253636232,\n",
       " 2.9392435998300237]"
      ]
     },
     "execution_count": 11,
     "metadata": {},
     "output_type": "execute_result"
    }
   ],
   "source": [
    "RMSE"
   ]
  },
  {
   "cell_type": "code",
   "execution_count": 15,
   "metadata": {},
   "outputs": [
    {
     "data": {
      "image/png": "[encoded data removed]",
      "text/plain": [
       "<Figure size 432x288 with 1 Axes>"
      ]
     },
     "metadata": {
      "needs_background": "light"
     },
     "output_type": "display_data"
    }
   ],
   "source": [
    "#绘制不同m值对应MAE的条形图\n",
    "m = list(range(1,6))\n",
    "plt.bar(m, MAE)\n",
    "plt.savefig('./1MAE.svg')\n",
    "plt.show()"
   ]
  },
  {
   "cell_type": "code",
   "execution_count": 13,
   "metadata": {},
   "outputs": [
    {
     "data": {
      "image/png": "[encoded data removed]",
      "text/plain": [
       "<Figure size 432x288 with 1 Axes>"
      ]
     },
     "metadata": {
      "needs_background": "light"
     },
     "output_type": "display_data"
    }
   ],
   "source": [
    "#绘制不同m值对应RMSE的条形图\n",
    "plt.bar(m, RMSE)\n",
    "plt.savefig('./RMSE.svg')\n",
    "plt.show()"
   ]
  },
  {
   "cell_type": "markdown",
   "metadata": {},
   "source": [
    "## Ridge回归"
   ]
  },
  {
   "cell_type": "code",
   "execution_count": 18,
   "metadata": {},
   "outputs": [],
   "source": [
    "import pandas as pd\n",
    "import numpy as np\n",
    "import matplotlib.pyplot as plt\n",
    "from sklearn.linear_model import Ridge\n",
    "from sklearn.model_selection import cross_val_score\n",
    "from sklearn.model_selection import train_test_split"
   ]
  },
  {
   "cell_type": "code",
   "execution_count": 19,
   "metadata": {},
   "outputs": [],
   "source": [
    "#读取数据集\n",
    "dataset = pd.read_csv('new_forestfires.csv')"
   ]
  },
  {
   "cell_type": "code",
   "execution_count": 20,
   "metadata": {},
   "outputs": [
    {
     "data": {
      "text/html": [
       "<div>\n",
       "<style scoped>\n",
       "    .dataframe tbody tr th:only-of-type {\n",
       "        vertical-align: middle;\n",
       "    }\n",
       "\n",
       "    .dataframe tbody tr th {\n",
       "        vertical-align: top;\n",
       "    }\n",
       "\n",
       "    .dataframe thead th {\n",
       "        text-align: right;\n",
       "    }\n",
       "</style>\n",
       "<table border=\"1\" class=\"dataframe\">\n",
       "  <thead>\n",
       "    <tr style=\"text-align: right;\">\n",
       "      <th></th>\n",
       "      <th>X</th>\n",
       "      <th>Y</th>\n",
       "      <th>month</th>\n",
       "      <th>day</th>\n",
       "      <th>FFMC</th>\n",
       "      <th>DMC</th>\n",
       "      <th>DC</th>\n",
       "      <th>ISI</th>\n",
       "      <th>temp</th>\n",
       "      <th>RH</th>\n",
       "      <th>wind</th>\n",
       "      <th>rain</th>\n",
       "      <th>iffire</th>\n",
       "    </tr>\n",
       "  </thead>\n",
       "  <tbody>\n",
       "    <tr>\n",
       "      <th>0</th>\n",
       "      <td>0.750</td>\n",
       "      <td>0.428571</td>\n",
       "      <td>0.181818</td>\n",
       "      <td>0.666667</td>\n",
       "      <td>0.870968</td>\n",
       "      <td>0.086492</td>\n",
       "      <td>0.101325</td>\n",
       "      <td>0.090909</td>\n",
       "      <td>0.192926</td>\n",
       "      <td>0.423529</td>\n",
       "      <td>0.700000</td>\n",
       "      <td>0.00000</td>\n",
       "      <td>0.0</td>\n",
       "    </tr>\n",
       "    <tr>\n",
       "      <th>1</th>\n",
       "      <td>0.750</td>\n",
       "      <td>0.285714</td>\n",
       "      <td>0.818182</td>\n",
       "      <td>0.166667</td>\n",
       "      <td>0.927742</td>\n",
       "      <td>0.118194</td>\n",
       "      <td>0.775419</td>\n",
       "      <td>0.119430</td>\n",
       "      <td>0.508039</td>\n",
       "      <td>0.211765</td>\n",
       "      <td>0.055556</td>\n",
       "      <td>0.00000</td>\n",
       "      <td>0.0</td>\n",
       "    </tr>\n",
       "    <tr>\n",
       "      <th>2</th>\n",
       "      <td>0.750</td>\n",
       "      <td>0.285714</td>\n",
       "      <td>0.818182</td>\n",
       "      <td>0.833333</td>\n",
       "      <td>0.927742</td>\n",
       "      <td>0.146795</td>\n",
       "      <td>0.796294</td>\n",
       "      <td>0.119430</td>\n",
       "      <td>0.398714</td>\n",
       "      <td>0.211765</td>\n",
       "      <td>0.100000</td>\n",
       "      <td>0.00000</td>\n",
       "      <td>0.0</td>\n",
       "    </tr>\n",
       "    <tr>\n",
       "      <th>3</th>\n",
       "      <td>0.875</td>\n",
       "      <td>0.571429</td>\n",
       "      <td>0.181818</td>\n",
       "      <td>0.666667</td>\n",
       "      <td>0.941935</td>\n",
       "      <td>0.110958</td>\n",
       "      <td>0.081623</td>\n",
       "      <td>0.160428</td>\n",
       "      <td>0.196141</td>\n",
       "      <td>0.964706</td>\n",
       "      <td>0.400000</td>\n",
       "      <td>0.03125</td>\n",
       "      <td>0.0</td>\n",
       "    </tr>\n",
       "    <tr>\n",
       "      <th>4</th>\n",
       "      <td>0.875</td>\n",
       "      <td>0.571429</td>\n",
       "      <td>0.181818</td>\n",
       "      <td>1.000000</td>\n",
       "      <td>0.910968</td>\n",
       "      <td>0.172984</td>\n",
       "      <td>0.110590</td>\n",
       "      <td>0.171123</td>\n",
       "      <td>0.295820</td>\n",
       "      <td>0.988235</td>\n",
       "      <td>0.155556</td>\n",
       "      <td>0.00000</td>\n",
       "      <td>0.0</td>\n",
       "    </tr>\n",
       "  </tbody>\n",
       "</table>\n",
       "</div>"
      ],
      "text/plain": [
       "       X         Y     month       day      FFMC       DMC        DC  \\\n",
       "0  0.750  0.428571  0.181818  0.666667  0.870968  0.086492  0.101325   \n",
       "1  0.750  0.285714  0.818182  0.166667  0.927742  0.118194  0.775419   \n",
       "2  0.750  0.285714  0.818182  0.833333  0.927742  0.146795  0.796294   \n",
       "3  0.875  0.571429  0.181818  0.666667  0.941935  0.110958  0.081623   \n",
       "4  0.875  0.571429  0.181818  1.000000  0.910968  0.172984  0.110590   \n",
       "\n",
       "        ISI      temp        RH      wind     rain  iffire  \n",
       "0  0.090909  0.192926  0.423529  0.700000  0.00000     0.0  \n",
       "1  0.119430  0.508039  0.211765  0.055556  0.00000     0.0  \n",
       "2  0.119430  0.398714  0.211765  0.100000  0.00000     0.0  \n",
       "3  0.160428  0.196141  0.964706  0.400000  0.03125     0.0  \n",
       "4  0.171123  0.295820  0.988235  0.155556  0.00000     0.0  "
      ]
     },
     "execution_count": 20,
     "metadata": {},
     "output_type": "execute_result"
    }
   ],
   "source": [
    "dataset.head()"
   ]
  },
  {
   "cell_type": "code",
   "execution_count": 23,
   "metadata": {},
   "outputs": [
    {
     "name": "stdout",
     "output_type": "stream",
     "text": [
      "正则化参数为： 0.0009765625\n",
      "正则化参数为： 0.001953125\n",
      "正则化参数为： 0.00390625\n",
      "正则化参数为： 0.0078125\n",
      "正则化参数为： 0.015625\n",
      "正则化参数为： 0.03125\n",
      "正则化参数为： 0.0625\n",
      "正则化参数为： 0.125\n",
      "正则化参数为： 0.25\n",
      "正则化参数为： 0.5\n",
      "正则化参数为： 1\n",
      "正则化参数为： 2\n",
      "正则化参数为： 4\n",
      "正则化参数为： 8\n",
      "正则化参数为： 16\n",
      "正则化参数为： 32\n",
      "正则化参数为： 64\n",
      "正则化参数为： 128\n",
      "正则化参数为： 256\n",
      "正则化参数为： 512\n",
      "正则化参数为： 1024\n",
      "正则化参数为： 2048\n",
      "正则化参数为： 4096\n",
      "正则化参数为： 8192\n",
      "正则化参数为： 16384\n",
      "正则化参数为： 32768\n",
      "正则化参数为： 65536\n",
      "正则化参数为： 131072\n",
      "正则化参数为： 262144\n",
      "正则化参数为： 524288\n"
     ]
    },
    {
     "data": {
      "image/png": "[encoded data removed]",
      "text/plain": [
       "<Figure size 432x288 with 1 Axes>"
      ]
     },
     "metadata": {
      "needs_background": "light"
     },
     "output_type": "display_data"
    }
   ],
   "source": [
    "dataset_data = dataset.iloc[:,0:-1]\n",
    "dataset_target = dataset.iloc[:,-1]\n",
    "ws = np.zeros((30,12))\n",
    "for i in range(30):\n",
    "    print(\"正则化参数为：\",2**(i-10))\n",
    "    model = Ridge(alpha=2**(i-10))\n",
    "    model.fit(dataset_data, dataset_target)\n",
    "    temp = cross_val_score(model,dataset_data, dataset_target, cv=10, scoring='neg_mean_absolute_error')\n",
    "    ws[i,:]=model.coef_\n",
    "plt.plot(ws)\n",
    "plt.savefig('./Ridge.svg')"
   ]
  },
  {
   "cell_type": "code",
   "execution_count": 24,
   "metadata": {},
   "outputs": [
    {
     "name": "stdout",
     "output_type": "stream",
     "text": [
      "回归系数 [ 7.33737824e-05  1.93934293e-04  3.09748930e-04 -6.56684628e-05\n",
      "  5.64767158e-04  1.54666490e-04  1.66597486e-04  2.83566470e-04\n",
      "  2.11029752e-04 -3.74747083e-05  1.03899828e-04  2.68350316e-04]\n",
      "MAE: 0.49909539125044733\n",
      "RMSE: 4.863017844951331\n",
      "回归系数 [ 1.57362625e-04  1.43039012e-04  1.98473682e-04 -8.68077373e-05\n",
      "  4.23896724e-04  7.51061609e-05  8.75622269e-05  1.04823206e-04\n",
      "  2.08060266e-04 -1.18208128e-04  1.83640081e-04  2.79542465e-04]\n",
      "MAE: 0.5002532322283835\n",
      "RMSE: 5.110707062928346\n",
      "回归系数 [ 1.23252324e-04  1.12212518e-04  3.27994699e-04 -6.67622456e-05\n",
      "  6.19550258e-04  1.75559932e-04  1.78154731e-04  3.12818816e-04\n",
      "  1.55922672e-04 -8.58234000e-07  1.09775572e-04  3.62831686e-04]\n",
      "MAE: 0.498516843651915\n",
      "RMSE: 4.987025546716106\n",
      "回归系数 [ 5.35025384e-05  2.13415455e-04  3.86171623e-04 -7.64613005e-05\n",
      "  4.37276758e-04  1.17541132e-04  2.11096532e-04  1.08438736e-04\n",
      "  2.01488126e-04 -1.68216003e-04  1.40567263e-04  2.83106080e-04]\n",
      "MAE: 0.49910183902265387\n",
      "RMSE: 5.3354752166746255\n",
      "回归系数 [ 1.13123415e-04  1.07949300e-04  3.01909475e-04 -3.50588844e-05\n",
      "  4.64859410e-04  1.80807941e-04  1.76876090e-04  2.02543118e-04\n",
      "  1.88511641e-04 -1.05971210e-04  2.62640673e-04  3.37711283e-04]\n",
      "MAE: 0.4985882520566891\n",
      "RMSE: 5.283998974904413\n"
     ]
    }
   ],
   "source": [
    "new_MAE = []\n",
    "new_RMSE = []\n",
    "for i in range(5):\n",
    "    #将数据集按80%:20%划分为训练集和测试集\n",
    "    dataset_train, dataset_test = train_test_split(dataset, test_size=0.2)\n",
    "    train_data = dataset_train.iloc[:,0:-1]\n",
    "    test_data = dataset_test.iloc[:,0:-1]\n",
    "    train_target = dataset_train.iloc[:,-1]\n",
    "    test_target = dataset_test.iloc[:,-1]\n",
    "    #训练模型\n",
    "    model1 = Ridge(alpha=1024, normalize=True)\n",
    "    model1.fit(train_data, train_target)\n",
    "    coef=model1.coef_\n",
    "    predict_target = model1.predict(test_data)\n",
    "    print(\"回归系数\",coef)\n",
    "\n",
    "    #求MAE和RMSE\n",
    "    real_target=list(test_target)\n",
    "    l = len(real_target)\n",
    "    sum5 = 0\n",
    "    sum6 = 0\n",
    "    for i in range(l):\n",
    "        sub = abs(real_target[i]-predict_target[i])\n",
    "        sum5 += sub\n",
    "    MAE2 = sum5/l\n",
    "    new_MAE.append(MAE2)\n",
    "    print(\"MAE:\", MAE2)\n",
    "    for j in range(l):\n",
    "        sub = (real_target[i]-predict_target[i])**2\n",
    "        sum6 += sub\n",
    "    RMSE2 = math.sqrt(sum6)\n",
    "    new_RMSE.append(RMSE2)\n",
    "    print(\"RMSE:\", RMSE2)"
   ]
  },
  {
   "cell_type": "code",
   "execution_count": 25,
   "metadata": {},
   "outputs": [
    {
     "data": {
      "text/plain": [
       "array([0.49909539, 0.50025323, 0.49851684, 0.49910184, 0.49858825])"
      ]
     },
     "execution_count": 25,
     "metadata": {},
     "output_type": "execute_result"
    }
   ],
   "source": [
    "new_MAE=np.array(new_MAE)\n",
    "new_MAE"
   ]
  },
  {
   "cell_type": "code",
   "execution_count": 26,
   "metadata": {},
   "outputs": [],
   "source": [
    "new_RMSE=np.array(new_RMSE)"
   ]
  },
  {
   "cell_type": "code",
   "execution_count": 27,
   "metadata": {},
   "outputs": [
    {
     "data": {
      "text/plain": [
       "0.49911111164201777"
      ]
     },
     "execution_count": 27,
     "metadata": {},
     "output_type": "execute_result"
    }
   ],
   "source": [
    "MAE_mean = np.mean(new_MAE)\n",
    "MAE_mean"
   ]
  },
  {
   "cell_type": "code",
   "execution_count": 28,
   "metadata": {},
   "outputs": [
    {
     "data": {
      "text/plain": [
       "5.116044929234965"
      ]
     },
     "execution_count": 28,
     "metadata": {},
     "output_type": "execute_result"
    }
   ],
   "source": [
    "RMSE_mean = np.mean(new_RMSE)\n",
    "RMSE_mean"
   ]
  },
  {
   "cell_type": "code",
   "execution_count": 29,
   "metadata": {},
   "outputs": [],
   "source": [
    "new_MAE = np.append(new_MAE, MAE_mean)\n",
    "new_RMSE = np.append(new_RMSE, RMSE_mean)"
   ]
  },
  {
   "cell_type": "code",
   "execution_count": 32,
   "metadata": {},
   "outputs": [
    {
     "name": "stdout",
     "output_type": "stream",
     "text": [
      "MAE\n"
     ]
    },
    {
     "data": {
      "image/png": "[encoded data removed]",
      "text/plain": [
       "<Figure size 432x288 with 1 Axes>"
      ]
     },
     "metadata": {
      "needs_background": "light"
     },
     "output_type": "display_data"
    }
   ],
   "source": [
    "x = [1, 2, 3, 4, 5, 6]\n",
    "print(\"MAE\")\n",
    "y1 = new_MAE\n",
    "plt.bar(x,y1)\n",
    "plt.savefig('./R_MAE.svg')\n",
    "plt.show()"
   ]
  },
  {
   "cell_type": "code",
   "execution_count": 34,
   "metadata": {},
   "outputs": [
    {
     "name": "stdout",
     "output_type": "stream",
     "text": [
      "RMSE:\n"
     ]
    },
    {
     "data": {
      "image/png": "[encoded data removed]",
      "text/plain": [
       "<Figure size 432x288 with 1 Axes>"
      ]
     },
     "metadata": {
      "needs_background": "light"
     },
     "output_type": "display_data"
    }
   ],
   "source": [
    "print(\"RMSE:\")\n",
    "y2 = new_RMSE\n",
    "plt.bar(x,y2)\n",
    "plt.savefig('./R_RMSE.svg')\n",
    "plt.show()"
   ]
  }
 ],
 "metadata": {
  "kernelspec": {
   "display_name": "Python 3",
   "language": "python",
   "name": "python3"
  },
  "language_info": {
   "codemirror_mode": {
    "name": "ipython",
    "version": 3
   },
   "file_extension": ".py",
   "mimetype": "text/x-python",
   "name": "python",
   "nbconvert_exporter": "python",
   "pygments_lexer": "ipython3",
   "version": "3.7.6"
  }
 },
 "nbformat": 4,
 "nbformat_minor": 4
}
