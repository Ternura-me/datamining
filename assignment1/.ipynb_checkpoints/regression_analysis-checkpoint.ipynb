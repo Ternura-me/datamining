{
 "cells": [
  {
   "cell_type": "markdown",
   "metadata": {},
   "source": [
    "## 一元多项式回归"
   ]
  },
  {
   "cell_type": "code",
   "execution_count": 19,
   "metadata": {},
   "outputs": [],
   "source": [
    "import math\n",
    "import pandas as pd\n",
    "import numpy as np\n",
    "import matplotlib.pyplot as plt\n",
    "from sklearn.model_selection import train_test_split"
   ]
  },
  {
   "cell_type": "markdown",
   "metadata": {},
   "source": [
    "### m=1"
   ]
  },
  {
   "cell_type": "code",
   "execution_count": 20,
   "metadata": {},
   "outputs": [
    {
     "name": "stdout",
     "output_type": "stream",
     "text": [
      "m=1：\n",
      "回归系数为： -0.05038855179885131\n",
      "MAE: 1.620124239448653\n",
      "RMSE: 3.699194205445657\n"
     ]
    }
   ],
   "source": [
    "#读入数据集\n",
    "D1 = pd.read_csv('D1.csv',header=None, names=['X','Y'])\n",
    "\n",
    "#将数据集按照80%:20%的比例划分为训练集和测试集\n",
    "D1_train, D1_test = train_test_split(D1, test_size=0.2)\n",
    "\n",
    "x_train = D1_train['X']\n",
    "y_train = D1_train['Y']\n",
    "x_test = D1_test['X']\n",
    "y_test = D1_test['Y']\n",
    "\n",
    "#使用普通最小二乘法估计\n",
    "class SLR:\n",
    "    def __init__(self):\n",
    "        return\n",
    "    \n",
    "    def fit(X, y):\n",
    "        if len(X) == len(y):\n",
    "            X_mean = np.mean(X)\n",
    "            y_mean = np.mean(y)\n",
    "            a1 = 0.0\n",
    "            a2 = 0.0\n",
    "            for i in range(len(X)):\n",
    "                a1 += ((X[i]-X_mean)*(y[i]-y_mean))      #分子\n",
    "                a2 += np.square(X[i]-X_mean)             #分母\n",
    "            a = a1/a2\n",
    "            b = y_mean - a*X_mean\n",
    "        return a,b\n",
    "\n",
    "    def predict(X, a, b):\n",
    "        return a*X+b\n",
    "\n",
    "print(\"m=1：\")\n",
    "#确定回归系数和误差值\n",
    "parameter1 = SLR.fit(list(x_train),list(y_train))\n",
    "print(\"回归系数为：\",parameter1[0])\n",
    "\n",
    "#求MAE和RMSE\n",
    "y_real = list(y_test)\n",
    "y_predict =[]\n",
    "for item in list(x_test):\n",
    "    z =  SLR.predict(item, parameter1[0], parameter1[1])\n",
    "    y_predict.append(z)\n",
    "l = len(y_real)\n",
    "sum1 = 0\n",
    "sum2 = 0\n",
    "for i in range(l):\n",
    "    sub1 = abs(y_real[i]-y_predict[i])\n",
    "    sum1 += sub1\n",
    "MAE = sum1/l\n",
    "print(\"MAE:\", MAE)\n",
    "for j in range(l):\n",
    "    sub2 = (y_real[j]-y_predict[j])**2\n",
    "    sum2 += sub2\n",
    "RMSE = math.sqrt(sum2)\n",
    "print(\"RMSE:\", RMSE)"
   ]
  },
  {
   "cell_type": "markdown",
   "metadata": {},
   "source": [
    "### 1<m<5"
   ]
  },
  {
   "cell_type": "code",
   "execution_count": 21,
   "metadata": {},
   "outputs": [],
   "source": [
    "X1=list(D1['X'])\n",
    "#计算自变量的2、3、4、5次方并将结果保存在二维数组X中\n",
    "X=[[],[],[],[]]\n",
    "a=1\n",
    "for j in range(4):\n",
    "    a+=1\n",
    "    for i in range(len(X1)):\n",
    "        item=X1[i]**a\n",
    "        X[j].append(item)\n",
    "X = np.array(X)\n",
    "\n",
    "#将自变量保存在数组X中\n",
    "X = np.insert(X, 0, values=X1, axis=0)\n",
    "X=X.T\n",
    "#形成新的数据集D2\n",
    "X=pd.DataFrame(X)\n",
    "D2 = X.join(D1['Y'])\n",
    "#划分数据集为训练集和测试集\n",
    "D2_train, D2_test = train_test_split(D2, test_size=0.2)\n",
    "x2_train = D2_train.iloc[:,:-1]\n",
    "y2_train = D2_train['Y']\n",
    "x2_test = D2_test.iloc[:,:-1]\n",
    "y2_test = D2_test['Y']\n",
    "#将因变量保存在数组Y中\n",
    "Y=np.array(list(y2_train))\n",
    "Y=Y.reshape(len(Y), 1)"
   ]
  },
  {
   "cell_type": "code",
   "execution_count": 22,
   "metadata": {},
   "outputs": [],
   "source": [
    "#自定义求参数的方法\n",
    "def getpar(data_x, data_y, m):\n",
    "    x=data_x.iloc[:,:m]\n",
    "    y=data_y\n",
    "    ones = np.ones(x.shape[0]).reshape(-1,1)\n",
    "    x = np.hstack((x,ones))\n",
    "    w_ = np.dot(np.dot(np.linalg.inv(np.dot(x.T, x)), x.T), y)\n",
    "    b = w_[-1]\n",
    "    w = w_[:-1]\n",
    "    print(\"m=\",m,\"时：\")\n",
    "    print(\"系数矩阵为：\\n\",w)\n",
    "    return w,b\n",
    "\n",
    "#自定义求预测值的方法\n",
    "def predict(x_test, y_test, m, w, b):\n",
    "    x = x_test.iloc[:,:m].values\n",
    "    y = y_test.values.reshape((-1, 1))\n",
    "    y_pre = np.dot(x, w) + b\n",
    "    return y_pre"
   ]
  },
  {
   "cell_type": "code",
   "execution_count": 30,
   "metadata": {},
   "outputs": [
    {
     "name": "stdout",
     "output_type": "stream",
     "text": [
      "m= 2 时：\n",
      "系数矩阵为：\n",
      " [[-0.03960417]\n",
      " [ 0.00926788]]\n",
      "m= 3 时：\n",
      "系数矩阵为：\n",
      " [[ 0.04885182]\n",
      " [ 0.01050663]\n",
      " [-0.00091676]]\n",
      "m= 4 时：\n",
      "系数矩阵为：\n",
      " [[ 4.15216114e-02]\n",
      " [ 2.11054287e-02]\n",
      " [-7.67311715e-04]\n",
      " [-7.57839694e-05]]\n",
      "m= 5 时：\n",
      "系数矩阵为：\n",
      " [[-1.78486139e-01]\n",
      " [ 1.79200790e-02]\n",
      " [ 6.77681823e-03]\n",
      " [-9.29424490e-06]\n",
      " [-4.41590477e-05]]\n"
     ]
    }
   ],
   "source": [
    "#分别求m为2,3,4,5时的参数值，并将结果保存在wb中\n",
    "w = []\n",
    "b = []\n",
    "for i in range(2, 6):\n",
    "    get = getpar(x2_train, Y, i)\n",
    "    w.append(get[0])\n",
    "    b.append(get[1])\n",
    "wb = list(zip(w, b))"
   ]
  },
  {
   "cell_type": "code",
   "execution_count": 24,
   "metadata": {},
   "outputs": [],
   "source": [
    "#分别求m=2,3,4,5时的预测值并将结果保存在列表y_predict中\n",
    "m=2\n",
    "y2_predict = []\n",
    "for p,q in wb:\n",
    "    y2_predict.append(predict(x2_test, y2_test, m, p, q))\n",
    "    m += 1"
   ]
  },
  {
   "cell_type": "code",
   "execution_count": 29,
   "metadata": {},
   "outputs": [
    {
     "name": "stdout",
     "output_type": "stream",
     "text": [
      "m= 2 时 MAE为: [0.7389659]\n",
      "m= 3 时 MAE为: [2.67916586]\n",
      "m= 4 时 MAE为: [3.35131631]\n",
      "m= 5 时 MAE为: [5.67007977]\n",
      "m= 2 时 RMSE为: 3.163339109961617\n",
      "m= 3 时 RMSE为: 4.473637071692954\n",
      "m= 4 时 RMSE为: 5.479064060023232\n",
      "m= 5 时 RMSE为: 6.326678219923234\n"
     ]
    }
   ],
   "source": [
    "#分别求m=2,3,4,5时的MAE和RMSE的值\n",
    "y2_real=list(y2_test)\n",
    "l2 = len(y2_real)\n",
    "sum3 = 0\n",
    "sum4 = 0\n",
    "m = 2\n",
    "n = 2\n",
    "for i in range(l2):\n",
    "    for j in range(l2):\n",
    "        sub3 = abs(y2_real[i]-y2_predict[i][j])\n",
    "        sum3 += sub3\n",
    "    MAE = sum3/l2\n",
    "    print(\"m=\",m,\"时\",\"MAE为:\", MAE)\n",
    "    m += 1\n",
    "for i in range(l2):\n",
    "    for j in range(l2):\n",
    "        sub4 = (y2_real[i]-y2_predict[i][j])**2\n",
    "        sum4 += sub1\n",
    "    RMSE = math.sqrt(sum4)\n",
    "    print(\"m=\",n,\"时\",\"RMSE为:\", RMSE)\n",
    "    n += 1"
   ]
  },
  {
   "cell_type": "markdown",
   "metadata": {},
   "source": [
    "## "
   ]
  },
  {
   "cell_type": "code",
   "execution_count": null,
   "metadata": {},
   "outputs": [],
   "source": []
  }
 ],
 "metadata": {
  "kernelspec": {
   "display_name": "Python 3",
   "language": "python",
   "name": "python3"
  },
  "language_info": {
   "codemirror_mode": {
    "name": "ipython",
    "version": 3
   },
   "file_extension": ".py",
   "mimetype": "text/x-python",
   "name": "python",
   "nbconvert_exporter": "python",
   "pygments_lexer": "ipython3",
   "version": "3.7.6"
  }
 },
 "nbformat": 4,
 "nbformat_minor": 4
}
