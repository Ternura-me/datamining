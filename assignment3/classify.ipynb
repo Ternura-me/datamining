{
 "cells": [
  {
   "cell_type": "code",
   "execution_count": 1,
   "metadata": {},
   "outputs": [],
   "source": [
    "import pandas as pd\n",
    "import numpy as np\n",
    "import warnings\n",
    "warnings.filterwarnings(\"ignore\")\n",
    "from sklearn import metrics\n",
    "from sklearn.metrics import confusion_matrix\n",
    "from sklearn.model_selection import train_test_split\n",
    "from sklearn.ensemble import RandomForestClassifier\n",
    "from sklearn.ensemble import AdaBoostClassifier"
   ]
  },
  {
   "cell_type": "markdown",
   "metadata": {},
   "source": [
    "## 读入数据集"
   ]
  },
  {
   "cell_type": "code",
   "execution_count": 2,
   "metadata": {},
   "outputs": [
    {
     "data": {
      "text/html": [
       "<div>\n",
       "<style scoped>\n",
       "    .dataframe tbody tr th:only-of-type {\n",
       "        vertical-align: middle;\n",
       "    }\n",
       "\n",
       "    .dataframe tbody tr th {\n",
       "        vertical-align: top;\n",
       "    }\n",
       "\n",
       "    .dataframe thead th {\n",
       "        text-align: right;\n",
       "    }\n",
       "</style>\n",
       "<table border=\"1\" class=\"dataframe\">\n",
       "  <thead>\n",
       "    <tr style=\"text-align: right;\">\n",
       "      <th></th>\n",
       "      <th>0</th>\n",
       "      <th>1</th>\n",
       "      <th>2</th>\n",
       "      <th>3</th>\n",
       "      <th>4</th>\n",
       "    </tr>\n",
       "  </thead>\n",
       "  <tbody>\n",
       "    <tr>\n",
       "      <th>0</th>\n",
       "      <td>5.1</td>\n",
       "      <td>3.5</td>\n",
       "      <td>1.4</td>\n",
       "      <td>0.2</td>\n",
       "      <td>Iris-setosa</td>\n",
       "    </tr>\n",
       "    <tr>\n",
       "      <th>1</th>\n",
       "      <td>4.9</td>\n",
       "      <td>3.0</td>\n",
       "      <td>1.4</td>\n",
       "      <td>0.2</td>\n",
       "      <td>Iris-setosa</td>\n",
       "    </tr>\n",
       "    <tr>\n",
       "      <th>2</th>\n",
       "      <td>4.7</td>\n",
       "      <td>3.2</td>\n",
       "      <td>1.3</td>\n",
       "      <td>0.2</td>\n",
       "      <td>Iris-setosa</td>\n",
       "    </tr>\n",
       "    <tr>\n",
       "      <th>3</th>\n",
       "      <td>4.6</td>\n",
       "      <td>3.1</td>\n",
       "      <td>1.5</td>\n",
       "      <td>0.2</td>\n",
       "      <td>Iris-setosa</td>\n",
       "    </tr>\n",
       "    <tr>\n",
       "      <th>4</th>\n",
       "      <td>5.0</td>\n",
       "      <td>3.6</td>\n",
       "      <td>1.4</td>\n",
       "      <td>0.2</td>\n",
       "      <td>Iris-setosa</td>\n",
       "    </tr>\n",
       "  </tbody>\n",
       "</table>\n",
       "</div>"
      ],
      "text/plain": [
       "     0    1    2    3            4\n",
       "0  5.1  3.5  1.4  0.2  Iris-setosa\n",
       "1  4.9  3.0  1.4  0.2  Iris-setosa\n",
       "2  4.7  3.2  1.3  0.2  Iris-setosa\n",
       "3  4.6  3.1  1.5  0.2  Iris-setosa\n",
       "4  5.0  3.6  1.4  0.2  Iris-setosa"
      ]
     },
     "execution_count": 2,
     "metadata": {},
     "output_type": "execute_result"
    }
   ],
   "source": [
    "D1 = pd.read_csv(\"D1.data\",header=None)\n",
    "D2 = pd.read_csv(\"D2.data\",header=None)\n",
    "D1.head()"
   ]
  },
  {
   "cell_type": "code",
   "execution_count": 3,
   "metadata": {},
   "outputs": [
    {
     "data": {
      "text/html": [
       "<div>\n",
       "<style scoped>\n",
       "    .dataframe tbody tr th:only-of-type {\n",
       "        vertical-align: middle;\n",
       "    }\n",
       "\n",
       "    .dataframe tbody tr th {\n",
       "        vertical-align: top;\n",
       "    }\n",
       "\n",
       "    .dataframe thead th {\n",
       "        text-align: right;\n",
       "    }\n",
       "</style>\n",
       "<table border=\"1\" class=\"dataframe\">\n",
       "  <thead>\n",
       "    <tr style=\"text-align: right;\">\n",
       "      <th></th>\n",
       "      <th>0</th>\n",
       "      <th>1</th>\n",
       "      <th>2</th>\n",
       "      <th>3</th>\n",
       "      <th>4</th>\n",
       "      <th>5</th>\n",
       "      <th>6</th>\n",
       "      <th>7</th>\n",
       "      <th>8</th>\n",
       "      <th>9</th>\n",
       "      <th>...</th>\n",
       "      <th>22</th>\n",
       "      <th>23</th>\n",
       "      <th>24</th>\n",
       "      <th>25</th>\n",
       "      <th>26</th>\n",
       "      <th>27</th>\n",
       "      <th>28</th>\n",
       "      <th>29</th>\n",
       "      <th>30</th>\n",
       "      <th>31</th>\n",
       "    </tr>\n",
       "  </thead>\n",
       "  <tbody>\n",
       "    <tr>\n",
       "      <th>0</th>\n",
       "      <td>842302</td>\n",
       "      <td>M</td>\n",
       "      <td>17.99</td>\n",
       "      <td>10.38</td>\n",
       "      <td>122.80</td>\n",
       "      <td>1001.0</td>\n",
       "      <td>0.11840</td>\n",
       "      <td>0.27760</td>\n",
       "      <td>0.3001</td>\n",
       "      <td>0.14710</td>\n",
       "      <td>...</td>\n",
       "      <td>25.38</td>\n",
       "      <td>17.33</td>\n",
       "      <td>184.60</td>\n",
       "      <td>2019.0</td>\n",
       "      <td>0.1622</td>\n",
       "      <td>0.6656</td>\n",
       "      <td>0.7119</td>\n",
       "      <td>0.2654</td>\n",
       "      <td>0.4601</td>\n",
       "      <td>0.11890</td>\n",
       "    </tr>\n",
       "    <tr>\n",
       "      <th>1</th>\n",
       "      <td>842517</td>\n",
       "      <td>M</td>\n",
       "      <td>20.57</td>\n",
       "      <td>17.77</td>\n",
       "      <td>132.90</td>\n",
       "      <td>1326.0</td>\n",
       "      <td>0.08474</td>\n",
       "      <td>0.07864</td>\n",
       "      <td>0.0869</td>\n",
       "      <td>0.07017</td>\n",
       "      <td>...</td>\n",
       "      <td>24.99</td>\n",
       "      <td>23.41</td>\n",
       "      <td>158.80</td>\n",
       "      <td>1956.0</td>\n",
       "      <td>0.1238</td>\n",
       "      <td>0.1866</td>\n",
       "      <td>0.2416</td>\n",
       "      <td>0.1860</td>\n",
       "      <td>0.2750</td>\n",
       "      <td>0.08902</td>\n",
       "    </tr>\n",
       "    <tr>\n",
       "      <th>2</th>\n",
       "      <td>84300903</td>\n",
       "      <td>M</td>\n",
       "      <td>19.69</td>\n",
       "      <td>21.25</td>\n",
       "      <td>130.00</td>\n",
       "      <td>1203.0</td>\n",
       "      <td>0.10960</td>\n",
       "      <td>0.15990</td>\n",
       "      <td>0.1974</td>\n",
       "      <td>0.12790</td>\n",
       "      <td>...</td>\n",
       "      <td>23.57</td>\n",
       "      <td>25.53</td>\n",
       "      <td>152.50</td>\n",
       "      <td>1709.0</td>\n",
       "      <td>0.1444</td>\n",
       "      <td>0.4245</td>\n",
       "      <td>0.4504</td>\n",
       "      <td>0.2430</td>\n",
       "      <td>0.3613</td>\n",
       "      <td>0.08758</td>\n",
       "    </tr>\n",
       "    <tr>\n",
       "      <th>3</th>\n",
       "      <td>84348301</td>\n",
       "      <td>M</td>\n",
       "      <td>11.42</td>\n",
       "      <td>20.38</td>\n",
       "      <td>77.58</td>\n",
       "      <td>386.1</td>\n",
       "      <td>0.14250</td>\n",
       "      <td>0.28390</td>\n",
       "      <td>0.2414</td>\n",
       "      <td>0.10520</td>\n",
       "      <td>...</td>\n",
       "      <td>14.91</td>\n",
       "      <td>26.50</td>\n",
       "      <td>98.87</td>\n",
       "      <td>567.7</td>\n",
       "      <td>0.2098</td>\n",
       "      <td>0.8663</td>\n",
       "      <td>0.6869</td>\n",
       "      <td>0.2575</td>\n",
       "      <td>0.6638</td>\n",
       "      <td>0.17300</td>\n",
       "    </tr>\n",
       "    <tr>\n",
       "      <th>4</th>\n",
       "      <td>84358402</td>\n",
       "      <td>M</td>\n",
       "      <td>20.29</td>\n",
       "      <td>14.34</td>\n",
       "      <td>135.10</td>\n",
       "      <td>1297.0</td>\n",
       "      <td>0.10030</td>\n",
       "      <td>0.13280</td>\n",
       "      <td>0.1980</td>\n",
       "      <td>0.10430</td>\n",
       "      <td>...</td>\n",
       "      <td>22.54</td>\n",
       "      <td>16.67</td>\n",
       "      <td>152.20</td>\n",
       "      <td>1575.0</td>\n",
       "      <td>0.1374</td>\n",
       "      <td>0.2050</td>\n",
       "      <td>0.4000</td>\n",
       "      <td>0.1625</td>\n",
       "      <td>0.2364</td>\n",
       "      <td>0.07678</td>\n",
       "    </tr>\n",
       "  </tbody>\n",
       "</table>\n",
       "<p>5 rows × 32 columns</p>\n",
       "</div>"
      ],
      "text/plain": [
       "         0  1      2      3       4       5        6        7       8   \\\n",
       "0    842302  M  17.99  10.38  122.80  1001.0  0.11840  0.27760  0.3001   \n",
       "1    842517  M  20.57  17.77  132.90  1326.0  0.08474  0.07864  0.0869   \n",
       "2  84300903  M  19.69  21.25  130.00  1203.0  0.10960  0.15990  0.1974   \n",
       "3  84348301  M  11.42  20.38   77.58   386.1  0.14250  0.28390  0.2414   \n",
       "4  84358402  M  20.29  14.34  135.10  1297.0  0.10030  0.13280  0.1980   \n",
       "\n",
       "        9   ...     22     23      24      25      26      27      28      29  \\\n",
       "0  0.14710  ...  25.38  17.33  184.60  2019.0  0.1622  0.6656  0.7119  0.2654   \n",
       "1  0.07017  ...  24.99  23.41  158.80  1956.0  0.1238  0.1866  0.2416  0.1860   \n",
       "2  0.12790  ...  23.57  25.53  152.50  1709.0  0.1444  0.4245  0.4504  0.2430   \n",
       "3  0.10520  ...  14.91  26.50   98.87   567.7  0.2098  0.8663  0.6869  0.2575   \n",
       "4  0.10430  ...  22.54  16.67  152.20  1575.0  0.1374  0.2050  0.4000  0.1625   \n",
       "\n",
       "       30       31  \n",
       "0  0.4601  0.11890  \n",
       "1  0.2750  0.08902  \n",
       "2  0.3613  0.08758  \n",
       "3  0.6638  0.17300  \n",
       "4  0.2364  0.07678  \n",
       "\n",
       "[5 rows x 32 columns]"
      ]
     },
     "execution_count": 3,
     "metadata": {},
     "output_type": "execute_result"
    }
   ],
   "source": [
    "D2.head()"
   ]
  },
  {
   "cell_type": "code",
   "execution_count": 4,
   "metadata": {},
   "outputs": [
    {
     "name": "stdout",
     "output_type": "stream",
     "text": [
      "<class 'pandas.core.frame.DataFrame'>\n",
      "RangeIndex: 150 entries, 0 to 149\n",
      "Data columns (total 5 columns):\n",
      " #   Column  Non-Null Count  Dtype  \n",
      "---  ------  --------------  -----  \n",
      " 0   0       150 non-null    float64\n",
      " 1   1       150 non-null    float64\n",
      " 2   2       150 non-null    float64\n",
      " 3   3       150 non-null    float64\n",
      " 4   4       150 non-null    object \n",
      "dtypes: float64(4), object(1)\n",
      "memory usage: 6.0+ KB\n"
     ]
    }
   ],
   "source": [
    "D1.info()"
   ]
  },
  {
   "cell_type": "code",
   "execution_count": 5,
   "metadata": {},
   "outputs": [
    {
     "name": "stdout",
     "output_type": "stream",
     "text": [
      "<class 'pandas.core.frame.DataFrame'>\n",
      "RangeIndex: 569 entries, 0 to 568\n",
      "Data columns (total 32 columns):\n",
      " #   Column  Non-Null Count  Dtype  \n",
      "---  ------  --------------  -----  \n",
      " 0   0       569 non-null    int64  \n",
      " 1   1       569 non-null    object \n",
      " 2   2       569 non-null    float64\n",
      " 3   3       569 non-null    float64\n",
      " 4   4       569 non-null    float64\n",
      " 5   5       569 non-null    float64\n",
      " 6   6       569 non-null    float64\n",
      " 7   7       569 non-null    float64\n",
      " 8   8       569 non-null    float64\n",
      " 9   9       569 non-null    float64\n",
      " 10  10      569 non-null    float64\n",
      " 11  11      569 non-null    float64\n",
      " 12  12      569 non-null    float64\n",
      " 13  13      569 non-null    float64\n",
      " 14  14      569 non-null    float64\n",
      " 15  15      569 non-null    float64\n",
      " 16  16      569 non-null    float64\n",
      " 17  17      569 non-null    float64\n",
      " 18  18      569 non-null    float64\n",
      " 19  19      569 non-null    float64\n",
      " 20  20      569 non-null    float64\n",
      " 21  21      569 non-null    float64\n",
      " 22  22      569 non-null    float64\n",
      " 23  23      569 non-null    float64\n",
      " 24  24      569 non-null    float64\n",
      " 25  25      569 non-null    float64\n",
      " 26  26      569 non-null    float64\n",
      " 27  27      569 non-null    float64\n",
      " 28  28      569 non-null    float64\n",
      " 29  29      569 non-null    float64\n",
      " 30  30      569 non-null    float64\n",
      " 31  31      569 non-null    float64\n",
      "dtypes: float64(30), int64(1), object(1)\n",
      "memory usage: 142.4+ KB\n"
     ]
    }
   ],
   "source": [
    "D2.info()"
   ]
  },
  {
   "cell_type": "code",
   "execution_count": 6,
   "metadata": {},
   "outputs": [],
   "source": [
    "D1_X = D1.iloc[:, 0:4]\n",
    "D1_y = D1.iloc[:, 4]\n",
    "D2_X = D2.iloc[:, 2:]\n",
    "D2_y = D2.iloc[:, 1]"
   ]
  },
  {
   "cell_type": "markdown",
   "metadata": {},
   "source": [
    "## 划分训练集和测试集"
   ]
  },
  {
   "cell_type": "code",
   "execution_count": 7,
   "metadata": {},
   "outputs": [],
   "source": [
    "D1_X_train, D1_X_test, D1_y_train, D1_y_test = train_test_split(D1_X, D1_y, test_size=0.3)\n",
    "D2_X_train, D2_X_test, D2_y_train, D2_y_test = train_test_split(D2_X, D2_y, test_size=0.3)"
   ]
  },
  {
   "cell_type": "markdown",
   "metadata": {},
   "source": [
    "## 引入模型并训练"
   ]
  },
  {
   "cell_type": "code",
   "execution_count": 26,
   "metadata": {},
   "outputs": [],
   "source": [
    "clf_rf = RandomForestClassifier(n_estimators=25, bootstrap=True)\n",
    "clf_adb = AdaBoostClassifier(base_estimator=None, n_estimators=25, learning_rate=1.0, algorithm='SAMME.R')"
   ]
  },
  {
   "cell_type": "code",
   "execution_count": 27,
   "metadata": {},
   "outputs": [
    {
     "data": {
      "text/plain": [
       "RandomForestClassifier(bootstrap=True, ccp_alpha=0.0, class_weight=None,\n",
       "                       criterion='gini', max_depth=None, max_features='auto',\n",
       "                       max_leaf_nodes=None, max_samples=None,\n",
       "                       min_impurity_decrease=0.0, min_impurity_split=None,\n",
       "                       min_samples_leaf=1, min_samples_split=2,\n",
       "                       min_weight_fraction_leaf=0.0, n_estimators=25,\n",
       "                       n_jobs=None, oob_score=False, random_state=None,\n",
       "                       verbose=0, warm_start=False)"
      ]
     },
     "execution_count": 27,
     "metadata": {},
     "output_type": "execute_result"
    }
   ],
   "source": [
    "clf_rf.fit(D1_X_train, D1_y_train)"
   ]
  },
  {
   "cell_type": "code",
   "execution_count": 28,
   "metadata": {},
   "outputs": [
    {
     "data": {
      "text/plain": [
       "AdaBoostClassifier(algorithm='SAMME.R', base_estimator=None, learning_rate=1.0,\n",
       "                   n_estimators=25, random_state=None)"
      ]
     },
     "execution_count": 28,
     "metadata": {},
     "output_type": "execute_result"
    }
   ],
   "source": [
    "clf_adb.fit(D1_X_train, D1_y_train)"
   ]
  },
  {
   "cell_type": "code",
   "execution_count": 29,
   "metadata": {},
   "outputs": [
    {
     "name": "stdout",
     "output_type": "stream",
     "text": [
      "随机森林模型在数据集D1上的准确率为： 0.9111111111111111\n",
      "随机森林模型在数据集D1上的宏平均精确率为： 0.9125\n",
      "随机森林模型在数据集D1上的微平均精确率为： 0.9111111111111111\n",
      "随机森林模型在数据集D1上的宏平均召回率为： 0.9188034188034188\n",
      "随机森林模型在数据集D1上的微平均召回率为： 0.9111111111111111\n",
      "随机森林模型在数据集D1上的宏平均F1_score为： 0.9131652661064426\n",
      "随机森林模型在数据集D1上的微平均F1_score为： 0.9111111111111111\n",
      "随机森林模型在数据集D1上的混淆矩阵为：\n",
      " [[14  0  0]\n",
      " [ 0 12  1]\n",
      " [ 0  3 15]]\n"
     ]
    }
   ],
   "source": [
    "D1_y_predict_rf = clf_rf.predict(D1_X_test)\n",
    "D1_score_rf = clf_rf.score(D1_X_test, D1_y_test)\n",
    "D1_pre_mac_rf = metrics.precision_score(D1_y_test, D1_y_predict_rf, average='macro')\n",
    "D1_pre_mic_rf = metrics.precision_score(D1_y_test, D1_y_predict_rf, average='micro')\n",
    "D1_recall_mac_rf = metrics.recall_score(D1_y_test, D1_y_predict_rf, average='macro')\n",
    "D1_recall_mic_rf = metrics.recall_score(D1_y_test, D1_y_predict_rf, average='micro')\n",
    "D1_F1m_mac_rf = metrics.f1_score(D1_y_test, D1_y_predict_rf, average='macro')\n",
    "D1_F1m_mic_rf = metrics.f1_score(D1_y_test, D1_y_predict_rf, average='micro')\n",
    "D1_cfm_rf = confusion_matrix(D1_y_test, D1_y_predict_rf)\n",
    "print(\"随机森林模型在数据集D1上的准确率为：\", D1_score_rf)\n",
    "print(\"随机森林模型在数据集D1上的宏平均精确率为：\", D1_pre_mac_rf)\n",
    "print(\"随机森林模型在数据集D1上的微平均精确率为：\", D1_pre_mic_rf)\n",
    "print(\"随机森林模型在数据集D1上的宏平均召回率为：\", D1_recall_mac_rf)\n",
    "print(\"随机森林模型在数据集D1上的微平均召回率为：\", D1_recall_mic_rf)\n",
    "print(\"随机森林模型在数据集D1上的宏平均F1_score为：\", D1_F1m_mac_rf)\n",
    "print(\"随机森林模型在数据集D1上的微平均F1_score为：\", D1_F1m_mic_rf)\n",
    "print(\"随机森林模型在数据集D1上的混淆矩阵为：\\n\", D1_cfm_rf)"
   ]
  },
  {
   "cell_type": "code",
   "execution_count": 30,
   "metadata": {},
   "outputs": [
    {
     "name": "stdout",
     "output_type": "stream",
     "text": [
      "Adabost模型在数据集D1上的准确率为： 0.8222222222222222\n",
      "Adabost模型在数据集D1上的宏平均精确率为： 0.873015873015873\n",
      "Adabost模型在数据集D1上的微平均精确率为： 0.8222222222222222\n",
      "Adabost模型在数据集D1上的宏平均召回率为： 0.8518518518518517\n",
      "Adabost模型在数据集D1上的微平均召回率为： 0.8222222222222222\n",
      "Adabost模型在数据集D1上的宏平均F1_score为： 0.8263305322128852\n",
      "Adabost模型在数据集D1上的微平均F1_score为： 0.8222222222222222\n",
      "Adabost模型在数据集D1上的混淆矩阵为：\n",
      " [[14  0  0]\n",
      " [ 0 13  0]\n",
      " [ 0  8 10]]\n"
     ]
    }
   ],
   "source": [
    "D1_y_predict_adb = clf_adb.predict(D1_X_test)\n",
    "D1_score_adb = clf_adb.score(D1_X_test, D1_y_test)\n",
    "D1_pre_mac_adb = metrics.precision_score(D1_y_test, D1_y_predict_adb, average='macro')\n",
    "D1_pre_mic_adb = metrics.precision_score(D1_y_test, D1_y_predict_adb, average='micro')\n",
    "D1_recall_mac_adb = metrics.recall_score(D1_y_test, D1_y_predict_adb, average='macro')\n",
    "D1_recall_mic_adb = metrics.recall_score(D1_y_test, D1_y_predict_adb, average='micro')\n",
    "D1_F1m_mac_adb = metrics.f1_score(D1_y_test, D1_y_predict_adb, average='macro')\n",
    "D1_F1m_mic_adb = metrics.f1_score(D1_y_test, D1_y_predict_adb, average='micro')\n",
    "D1_cfm_adb = confusion_matrix(D1_y_test, D1_y_predict_adb)\n",
    "print(\"Adabost模型在数据集D1上的准确率为：\", D1_score_adb)\n",
    "print(\"Adabost模型在数据集D1上的宏平均精确率为：\", D1_pre_mac_adb)\n",
    "print(\"Adabost模型在数据集D1上的微平均精确率为：\", D1_pre_mic_adb)\n",
    "print(\"Adabost模型在数据集D1上的宏平均召回率为：\", D1_recall_mac_adb)\n",
    "print(\"Adabost模型在数据集D1上的微平均召回率为：\", D1_recall_mic_adb)\n",
    "print(\"Adabost模型在数据集D1上的宏平均F1_score为：\", D1_F1m_mac_adb)\n",
    "print(\"Adabost模型在数据集D1上的微平均F1_score为：\", D1_F1m_mic_adb)\n",
    "print(\"Adabost模型在数据集D1上的混淆矩阵为：\\n\", D1_cfm_adb)"
   ]
  },
  {
   "cell_type": "code",
   "execution_count": 31,
   "metadata": {},
   "outputs": [
    {
     "data": {
      "text/plain": [
       "RandomForestClassifier(bootstrap=True, ccp_alpha=0.0, class_weight=None,\n",
       "                       criterion='gini', max_depth=None, max_features='auto',\n",
       "                       max_leaf_nodes=None, max_samples=None,\n",
       "                       min_impurity_decrease=0.0, min_impurity_split=None,\n",
       "                       min_samples_leaf=1, min_samples_split=2,\n",
       "                       min_weight_fraction_leaf=0.0, n_estimators=25,\n",
       "                       n_jobs=None, oob_score=False, random_state=None,\n",
       "                       verbose=0, warm_start=False)"
      ]
     },
     "execution_count": 31,
     "metadata": {},
     "output_type": "execute_result"
    }
   ],
   "source": [
    "clf_rf.fit(D2_X_train, D2_y_train)"
   ]
  },
  {
   "cell_type": "code",
   "execution_count": 32,
   "metadata": {},
   "outputs": [
    {
     "data": {
      "text/plain": [
       "AdaBoostClassifier(algorithm='SAMME.R', base_estimator=None, learning_rate=1.0,\n",
       "                   n_estimators=25, random_state=None)"
      ]
     },
     "execution_count": 32,
     "metadata": {},
     "output_type": "execute_result"
    }
   ],
   "source": [
    "clf_adb.fit(D2_X_train, D2_y_train)"
   ]
  },
  {
   "cell_type": "code",
   "execution_count": 33,
   "metadata": {},
   "outputs": [
    {
     "name": "stdout",
     "output_type": "stream",
     "text": [
      "随机森林模型在数据集D2上的准确率为： 0.9590643274853801\n",
      "随机森林模型在数据集D2上的宏平均精确率为： 0.9631541725601132\n",
      "随机森林模型在数据集D2上的微平均精确率为： 0.9590643274853801\n",
      "随机森林模型在数据集D2上的宏平均召回率为： 0.9547916666666667\n",
      "随机森林模型在数据集D2上的微平均召回率为： 0.9590643274853801\n",
      "随机森林模型在数据集D2上的宏平均F1_score为： 0.9580955715035884\n",
      "随机森林模型在数据集D2上的微平均F1_score为： 0.9590643274853801\n",
      "随机森林模型在数据集D2上的混淆矩阵为：\n",
      " [[95  1]\n",
      " [ 6 69]]\n"
     ]
    }
   ],
   "source": [
    "D2_y_predict_rf = clf_rf.predict(D2_X_test)\n",
    "D2_score_rf = clf_rf.score(D2_X_test, D2_y_test)\n",
    "D2_pre_mac_rf = metrics.precision_score(D2_y_test, D2_y_predict_rf, average='macro')\n",
    "D2_pre_mic_rf = metrics.precision_score(D2_y_test, D2_y_predict_rf, average='micro')\n",
    "D2_recall_mac_rf = metrics.recall_score(D2_y_test, D2_y_predict_rf, average='macro')\n",
    "D2_recall_mic_rf = metrics.recall_score(D2_y_test, D2_y_predict_rf, average='micro')\n",
    "D2_F1m_mac_rf = metrics.f1_score(D2_y_test, D2_y_predict_rf, average='macro')\n",
    "D2_F1m_mic_rf = metrics.f1_score(D2_y_test, D2_y_predict_rf, average='micro')\n",
    "D2_cfm_rf = confusion_matrix(D2_y_test, D2_y_predict_rf)\n",
    "print(\"随机森林模型在数据集D2上的准确率为：\", D2_score_rf)\n",
    "print(\"随机森林模型在数据集D2上的宏平均精确率为：\", D2_pre_mac_rf)\n",
    "print(\"随机森林模型在数据集D2上的微平均精确率为：\", D2_pre_mic_rf)\n",
    "print(\"随机森林模型在数据集D2上的宏平均召回率为：\", D2_recall_mac_rf)\n",
    "print(\"随机森林模型在数据集D2上的微平均召回率为：\", D2_recall_mic_rf)\n",
    "print(\"随机森林模型在数据集D2上的宏平均F1_score为：\", D2_F1m_mac_rf)\n",
    "print(\"随机森林模型在数据集D2上的微平均F1_score为：\", D2_F1m_mic_rf)\n",
    "print(\"随机森林模型在数据集D2上的混淆矩阵为：\\n\", D2_cfm_rf)"
   ]
  },
  {
   "cell_type": "code",
   "execution_count": 34,
   "metadata": {},
   "outputs": [
    {
     "name": "stdout",
     "output_type": "stream",
     "text": [
      "Adabost模型在数据集D2上的准确率为： 0.9649122807017544\n",
      "Adabost模型在数据集D2上的宏平均精确率为： 0.9705882352941176\n",
      "Adabost模型在数据集D2上的微平均精确率为： 0.9649122807017544\n",
      "Adabost模型在数据集D2上的宏平均召回率为： 0.96\n",
      "Adabost模型在数据集D2上的微平均召回率为： 0.9649122807017544\n",
      "Adabost模型在数据集D2上的宏平均F1_score为： 0.9640151515151516\n",
      "Adabost模型在数据集D2上的微平均F1_score为： 0.9649122807017544\n",
      "Adabost模型在数据集D2上的混淆矩阵为：\n",
      " [[96  0]\n",
      " [ 6 69]]\n"
     ]
    }
   ],
   "source": [
    "D2_y_predict_adb = clf_adb.predict(D2_X_test)\n",
    "D2_score_adb = clf_adb.score(D2_X_test, D2_y_test)\n",
    "D2_pre_mac_adb = metrics.precision_score(D2_y_test, D2_y_predict_adb, average='macro')\n",
    "D2_pre_mic_adb = metrics.precision_score(D2_y_test, D2_y_predict_adb, average='micro')\n",
    "D2_recall_mac_adb = metrics.recall_score(D2_y_test, D2_y_predict_adb, average='macro')\n",
    "D2_recall_mic_adb = metrics.recall_score(D2_y_test, D2_y_predict_adb, average='micro')\n",
    "D2_F1m_mac_adb = metrics.f1_score(D2_y_test, D2_y_predict_adb, average='macro')\n",
    "D2_F1m_mic_adb = metrics.f1_score(D2_y_test, D2_y_predict_adb, average='micro')\n",
    "D2_cfm_adb = confusion_matrix(D2_y_test, D2_y_predict_adb)\n",
    "print(\"Adabost模型在数据集D2上的准确率为：\", D2_score_adb)\n",
    "print(\"Adabost模型在数据集D2上的宏平均精确率为：\", D2_pre_mac_adb)\n",
    "print(\"Adabost模型在数据集D2上的微平均精确率为：\", D2_pre_mic_adb)\n",
    "print(\"Adabost模型在数据集D2上的宏平均召回率为：\", D2_recall_mac_adb)\n",
    "print(\"Adabost模型在数据集D2上的微平均召回率为：\", D2_recall_mic_adb)\n",
    "print(\"Adabost模型在数据集D2上的宏平均F1_score为：\", D2_F1m_mac_adb)\n",
    "print(\"Adabost模型在数据集D2上的微平均F1_score为：\", D2_F1m_mic_adb)\n",
    "print(\"Adabost模型在数据集D2上的混淆矩阵为：\\n\", D2_cfm_adb)"
   ]
  },
  {
   "cell_type": "markdown",
   "metadata": {},
   "source": [
    "## 性能比较"
   ]
  },
  {
   "cell_type": "code",
   "execution_count": 38,
   "metadata": {},
   "outputs": [
    {
     "data": {
      "image/png": "[encoded data removed]",
      "text/plain": [
       "<Figure size 1080x1080 with 1 Axes>"
      ]
     },
     "metadata": {
      "needs_background": "light"
     },
     "output_type": "display_data"
    }
   ],
   "source": [
    "import matplotlib.pyplot as plt\n",
    "import numpy as np\n",
    "\n",
    "plt.figure(figsize=(15, 15))\n",
    "D1_x = np.arange(7)\n",
    "D1_y1 = [D1_score_rf, D1_pre_mac_rf, D1_pre_mic_rf, D1_recall_mac_rf, D1_recall_mic_rf, D1_F1m_mac_rf, D1_F1m_mic_rf]\n",
    "D1_y2 = [D1_score_adb, D1_pre_mac_adb, D1_pre_mic_adb, D1_recall_mac_adb, D1_recall_mic_adb, D1_F1m_mac_adb, D1_F1m_mic_adb]\n",
    "\n",
    "bar_width = 0.45\n",
    "tick_label = [\"Accuracy\", \"Precision_macro\", \"Precision_micro\", \"Recall_macro\", \"Recall_micro\", \"F1_measure_macro\", \"F1_measure_micro\"]\n",
    "\n",
    "plt.bar(D1_x, D1_y1, bar_width, align=\"center\", color=\"c\", label=\"RandomForestClassifier\", alpha=0.5)\n",
    "plt.bar(D1_x+bar_width, D1_y2, bar_width, color=\"b\", align=\"center\", label=\"AdaBoostClassifier\", alpha=0.5)\n",
    "\n",
    "plt.xlabel(\"metrics\")\n",
    "plt.ylabel(\"values\")\n",
    "\n",
    "plt.xticks(D1_x+bar_width/2, tick_label)\n",
    "\n",
    "plt.legend()\n",
    "plt.savefig('./D1_rf_adb.svg')\n",
    "plt.show()"
   ]
  },
  {
   "cell_type": "code",
   "execution_count": 39,
   "metadata": {},
   "outputs": [
    {
     "data": {
      "image/png": "[encoded data removed]",
      "text/plain": [
       "<Figure size 1080x1080 with 1 Axes>"
      ]
     },
     "metadata": {
      "needs_background": "light"
     },
     "output_type": "display_data"
    }
   ],
   "source": [
    "plt.figure(figsize=(15, 15))\n",
    "D2_x = np.arange(7)\n",
    "D2_y1 = [D2_score_rf, D2_pre_mac_rf, D2_pre_mic_rf, D2_recall_mac_rf, D2_recall_mic_rf, D2_F1m_mac_rf, D2_F1m_mic_rf]\n",
    "D2_y2 = [D2_score_adb, D2_pre_mac_adb, D2_pre_mic_adb, D2_recall_mac_adb, D2_recall_mic_adb, D2_F1m_mac_adb, D2_F1m_mic_adb]\n",
    "\n",
    "bar_width = 0.45\n",
    "tick_label = [\"Accuracy\", \"Precision_macro\", \"Precision_micro\", \"Recall_macro\", \"Recall_micro\", \"F1_measure_macro\", \"F1_measure_micro\"]\n",
    "\n",
    "plt.bar(D2_x, D2_y1, bar_width, align=\"center\", color=\"c\", label=\"RandomForestClassifier\", alpha=0.5)\n",
    "plt.bar(D2_x+bar_width, D2_y2, bar_width, color=\"b\", align=\"center\", label=\"AdaBoostClassifier\", alpha=0.5)\n",
    "\n",
    "plt.xlabel(\"metrics\")\n",
    "plt.ylabel(\"values\")\n",
    "\n",
    "plt.xticks(D2_x+bar_width/2, tick_label)\n",
    "\n",
    "plt.legend()\n",
    "plt.savefig('./D2_rf_adb.svg')\n",
    "plt.show()"
   ]
  },
  {
   "cell_type": "code",
   "execution_count": null,
   "metadata": {},
   "outputs": [],
   "source": []
  }
 ],
 "metadata": {
  "kernelspec": {
   "display_name": "Python 3",
   "language": "python",
   "name": "python3"
  },
  "language_info": {
   "codemirror_mode": {
    "name": "ipython",
    "version": 3
   },
   "file_extension": ".py",
   "mimetype": "text/x-python",
   "name": "python",
   "nbconvert_exporter": "python",
   "pygments_lexer": "ipython3",
   "version": "3.7.6"
  }
 },
 "nbformat": 4,
 "nbformat_minor": 4
}
