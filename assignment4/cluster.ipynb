{
 "cells": [
  {
   "cell_type": "markdown",
   "metadata": {},
   "source": [
    "\"\"\"\n",
    "算法实现思路：\n",
    "1.从数据集中随机选取k个样本作为初始簇中心，即质心\n",
    "2.计算每个数据点到每一个簇中心的距离，将其归入距离最小的那个簇中\n",
    "3.遍历完一遍数据集后，将形成k个簇，计算每个簇的数据点的均值作为簇中心\n",
    "4.循环执行2、3直到簇中心不在发生变化时停止（也可以定义迭代次数作为终止条件，不过本次没有实现）\n",
    "\"\"\""
   ]
  },
  {
   "cell_type": "code",
   "execution_count": 1,
   "metadata": {},
   "outputs": [],
   "source": [
    "import math\n",
    "import numpy as np\n",
    "import pandas as pd\n",
    "import warnings\n",
    "warnings.filterwarnings(\"ignore\")\n",
    "from collections import Counter\n",
    "from sklearn.cluster import Birch\n",
    "from matplotlib import pyplot as plt\n",
    "from sklearn.mixture import GaussianMixture"
   ]
  },
  {
   "cell_type": "code",
   "execution_count": 2,
   "metadata": {},
   "outputs": [],
   "source": [
    "#定义方法求数据点和选择的质心之间的距离\n",
    "def getDistance(data, centroid):\n",
    "    assert len(data) == len(centroid)\n",
    "    d = 0\n",
    "    for i in range(len(data)):\n",
    "        d += (data[i] - centroid[i]) ** 2\n",
    "    return d**0.5\n",
    "\n",
    "#定义方法随机选择质心\n",
    "def getinitCentroids(dataset, k):\n",
    "    centroids = []\n",
    "    centroids_index = []\n",
    "    for i in range(k):\n",
    "        index = np.random.randint(0, len(dataset))\n",
    "        while index in centroids_index:\n",
    "            index = np.random.randint(0, len(dataset))\n",
    "        centroids_index.append(index)\n",
    "        centroids.append(dataset[index])\n",
    "    return np.array(centroids)\n",
    "\n",
    "def myKmeans(dataset, k):\n",
    "    numSamples, numFeatures = dataset.shape\n",
    "    #定义一个二维数组，第一列保存所属簇的类别，第二列保存离质心的距离\n",
    "    clusterData = np.array(np.zeros((numSamples, 2)))\n",
    "    clusterChanged = True\n",
    "    centroids = getinitCentroids(dataset, k)\n",
    "    while clusterChanged:\n",
    "        clusterChanged = False\n",
    "        #遍历每一个数据\n",
    "        for i in range(numSamples):\n",
    "            minDist = 100000.0              #初始化样本到质心的最小距离\n",
    "            clusterIndex = 0                #初始化样本所属簇的类别\n",
    "            #遍历每一个质心\n",
    "            for j in range(k):\n",
    "                distance = getDistance(dataset[i], centroids[j])\n",
    "                if distance < minDist:\n",
    "                    minDist = distance\n",
    "                    clusterData[i, 1] = minDist\n",
    "                    clusterIndex = j\n",
    "            if clusterData[i, 0] != clusterIndex:\n",
    "                clusterChanged = True\n",
    "                clusterData[i, 0] = clusterIndex\n",
    "        for a in range(k):\n",
    "            #获得第a个簇中的所有数据点的行索引\n",
    "            cluster_index = np.nonzero(clusterData[:, 0] == a)\n",
    "            #根据索引获得该簇中的数据\n",
    "            OneCluster = dataset[cluster_index]\n",
    "            #计算新的质心\n",
    "            centroids[a, :] = np.mean(OneCluster, axis=0)\n",
    "    return centroids, clusterData"
   ]
  },
  {
   "cell_type": "code",
   "execution_count": 3,
   "metadata": {},
   "outputs": [],
   "source": [
    "#定义方法计算聚类的纯度\n",
    "def getPurity(labels, clusterData, k):\n",
    "    cluster_maxlabels = []\n",
    "    for i in range(k):\n",
    "        #获得第i个簇中的所有数据点的行索引\n",
    "        cluster_index = np.nonzero(clusterData[:,0] == i)\n",
    "        #根据索引获得该簇中的类别标签\n",
    "        labelsCluster = labels[cluster_index]\n",
    "        label = max(Counter(labelsCluster).values())\n",
    "        cluster_maxlabels.append(label)\n",
    "    purity = sum(cluster_maxlabels)/len(labels)\n",
    "    return purity"
   ]
  },
  {
   "cell_type": "code",
   "execution_count": 4,
   "metadata": {},
   "outputs": [],
   "source": [
    "#定义方法求RI\n",
    "\"\"\"\n",
    "兰德系数RI = (TP + TN) / (TP + FP + TN + FN)\n",
    "TP: 同类同簇\n",
    "FP: 同簇不同类\n",
    "FN: 同类不同簇\n",
    "TN: 不同簇不同类\n",
    "\"\"\"\n",
    "def getRI(labels, clusterData, k):\n",
    "    TP = 0          #同一簇中任取两个样本属于同一类\n",
    "    TP_FP = 0       #同一簇中任取两个样本点的情况\n",
    "    TP_FN = 0       #任意两个同类样本点分布在同一簇和不同簇的所有情况\n",
    "    TP_FP_TN_FN = (len(labels)*(len(labels)-1))/2   #所有样本点中任取两个样本点的所有情况\n",
    "    for a in list(Counter(labels).values()):\n",
    "        TP_FN += (a*(a-1))/2\n",
    "    for i in range(k):\n",
    "        #获得第i个簇中的所有数据点的行索引\n",
    "        cluster_index = np.nonzero(clusterData[:,0] == i)\n",
    "        #根据索引获得该簇中的类别标签\n",
    "        labelsCluster = labels[cluster_index]\n",
    "        labelsDict = Counter(labelsCluster)\n",
    "        labelsCount = list(labelsDict.values())\n",
    "        TP_FP += (len(labelsCluster)*(len(labelsCluster)-1))/2\n",
    "        for j in labelsCount:\n",
    "            if j >1:\n",
    "                TP += (j*(j-1))/2\n",
    "    FP = TP_FP - TP\n",
    "    FN = TP_FN - TP\n",
    "    TP_TN = TP_FP_TN_FN - FP - FN\n",
    "    RI = TP_TN / TP_FP_TN_FN\n",
    "    return RI"
   ]
  },
  {
   "cell_type": "code",
   "execution_count": 5,
   "metadata": {},
   "outputs": [],
   "source": [
    "#定义方法获得一个clusterData,便于使用上面的方法计算其模型的Purity和RI\n",
    "\"\"\"\n",
    "由于此时只需用到二维数组的形式并使其第一列存储数据所属簇索引，不需要第二列数据，\n",
    "所以使其默认为0即可\n",
    "\"\"\"\n",
    "def getclusterData(cluster_predict):\n",
    "    clusterData = np.array(np.zeros((len(cluster_predict), 2)))\n",
    "    for i in range(len(cluster_predict)):\n",
    "        clusterData[i,0] = cluster_predict[i]\n",
    "    return clusterData"
   ]
  },
  {
   "cell_type": "code",
   "execution_count": 6,
   "metadata": {},
   "outputs": [],
   "source": [
    "gmm = GaussianMixture(n_components=3)"
   ]
  },
  {
   "cell_type": "code",
   "execution_count": 7,
   "metadata": {},
   "outputs": [],
   "source": [
    "bir = Birch()"
   ]
  },
  {
   "cell_type": "markdown",
   "metadata": {},
   "source": [
    "## 鸢尾花数据集"
   ]
  },
  {
   "cell_type": "code",
   "execution_count": 8,
   "metadata": {},
   "outputs": [
    {
     "name": "stdout",
     "output_type": "stream",
     "text": [
      "K-Means模型在鸢尾花数据集上的纯度为： 0.8933333333333333\n",
      "K-Means模型在鸢尾花数据集上的兰德系数为： 0.8797315436241611\n"
     ]
    }
   ],
   "source": [
    "D1 = pd.read_csv(\"D1.data\",header=None)\n",
    "\n",
    "k1 = 3\n",
    "dataset1 = D1.iloc[:,0:4].values\n",
    "labels1 = D1.iloc[:, -1].values\n",
    "centroids1, clusterData1 = myKmeans(dataset1, k1)\n",
    "\n",
    "D1_Kmeans_purity = getPurity(labels1, clusterData1, k1)\n",
    "D1_Kmeans_RI = getRI(labels1, clusterData1, k1)\n",
    "\n",
    "print(\"K-Means模型在鸢尾花数据集上的纯度为：\", D1_Kmeans_purity)\n",
    "print(\"K-Means模型在鸢尾花数据集上的兰德系数为：\", D1_Kmeans_RI)"
   ]
  },
  {
   "cell_type": "code",
   "execution_count": 9,
   "metadata": {},
   "outputs": [
    {
     "name": "stdout",
     "output_type": "stream",
     "text": [
      "高斯混合模型在鸢尾花数据集上的纯度为： 0.9666666666666667\n",
      "高斯混合模型模型在鸢尾花数据集上的兰德系数为： 0.9574944071588367\n"
     ]
    }
   ],
   "source": [
    "gmm.fit(dataset1)\n",
    "cluster_predict_D1_gmm = gmm.predict(dataset1)\n",
    "clusterData1_gmm = getclusterData(cluster_predict_D1_gmm)\n",
    "\n",
    "D1_gmm_purity = getPurity(labels1, clusterData1_gmm, k1)\n",
    "D1_gmm_RI = getRI(labels1, clusterData1_gmm, k1)\n",
    "\n",
    "print(\"高斯混合模型在鸢尾花数据集上的纯度为：\", D1_gmm_purity)\n",
    "print(\"高斯混合模型模型在鸢尾花数据集上的兰德系数为：\", D1_gmm_RI)"
   ]
  },
  {
   "cell_type": "code",
   "execution_count": 10,
   "metadata": {},
   "outputs": [
    {
     "name": "stdout",
     "output_type": "stream",
     "text": [
      "Birch模型在鸢尾花数据集上的纯度为： 0.8133333333333334\n",
      "Birch模型模型在鸢尾花数据集上的兰德系数为： 0.8195973154362416\n"
     ]
    }
   ],
   "source": [
    "bir.fit(dataset1)\n",
    "cluster_predict_D1_bir = bir.predict(dataset1)\n",
    "clusterData1_bir = getclusterData(cluster_predict_D1_bir)\n",
    "\n",
    "D1_bir_purity = getPurity(labels1, clusterData1_bir, k1)\n",
    "D1_bir_RI = getRI(labels1, clusterData1_bir, k1)\n",
    "\n",
    "print(\"Birch模型在鸢尾花数据集上的纯度为：\", D1_bir_purity)\n",
    "print(\"Birch模型模型在鸢尾花数据集上的兰德系数为：\", D1_bir_RI)"
   ]
  },
  {
   "cell_type": "markdown",
   "metadata": {},
   "source": [
    "## 乳腺癌数据集"
   ]
  },
  {
   "cell_type": "code",
   "execution_count": 11,
   "metadata": {},
   "outputs": [
    {
     "name": "stdout",
     "output_type": "stream",
     "text": [
      "K-Means模型在乳腺癌数据集上的纯度为： 0.8875219683655536\n",
      "K-Means模型在乳腺癌数据集上的兰德系数为： 0.7667268991806728\n"
     ]
    }
   ],
   "source": [
    "D2 = pd.read_csv(\"D2.data\", header=None)\n",
    "\n",
    "k2 = 3\n",
    "dataset2 = D2.iloc[:, 2::].values\n",
    "labels2 = D2.iloc[:, 1].values\n",
    "centroids2, clusterData2 = myKmeans(dataset2, k2)\n",
    "\n",
    "D2_Kmeans_purity = getPurity(labels2, clusterData2, k2)\n",
    "D2_Kmeans_RI = getRI(labels2, clusterData2, k2)\n",
    "\n",
    "print(\"K-Means模型在乳腺癌数据集上的纯度为：\", D2_Kmeans_purity)\n",
    "print(\"K-Means模型在乳腺癌数据集上的兰德系数为：\", D2_Kmeans_RI)"
   ]
  },
  {
   "cell_type": "code",
   "execution_count": 12,
   "metadata": {},
   "outputs": [
    {
     "name": "stdout",
     "output_type": "stream",
     "text": [
      "高斯混合模型在乳腺癌数据集上的纯度为： 0.9349736379613357\n",
      "高斯混合模型模型在乳腺癌数据集上的兰德系数为： 0.8598480160400009\n"
     ]
    }
   ],
   "source": [
    "gmm.fit(dataset2)\n",
    "cluster_predict_D2_gmm = gmm.predict(dataset2)\n",
    "clusterData2_gmm = getclusterData(cluster_predict_D2_gmm)\n",
    "\n",
    "D2_gmm_purity = getPurity(labels2, clusterData2_gmm, k2)\n",
    "D2_gmm_RI = getRI(labels2, clusterData2_gmm, k2)\n",
    "\n",
    "print(\"高斯混合模型在乳腺癌数据集上的纯度为：\", D2_gmm_purity)\n",
    "print(\"高斯混合模型模型在乳腺癌数据集上的兰德系数为：\", D2_gmm_RI)"
   ]
  },
  {
   "cell_type": "code",
   "execution_count": 13,
   "metadata": {},
   "outputs": [
    {
     "name": "stdout",
     "output_type": "stream",
     "text": [
      "Birch模型在乳腺癌数据集上的纯度为： 0.8189806678383128\n",
      "Birch模型模型在乳腺癌数据集上的兰德系数为： 0.6907349191811678\n"
     ]
    }
   ],
   "source": [
    "bir.fit(dataset2)\n",
    "cluster_predict_D2_bir = bir.predict(dataset2)\n",
    "clusterData2_bir = getclusterData(cluster_predict_D2_bir)\n",
    "\n",
    "D2_bir_purity = getPurity(labels2, clusterData2_bir, k2)\n",
    "D2_bir_RI = getRI(labels2, clusterData2_bir, k2)\n",
    "\n",
    "print(\"Birch模型在乳腺癌数据集上的纯度为：\", D2_bir_purity)\n",
    "print(\"Birch模型模型在乳腺癌数据集上的兰德系数为：\", D2_bir_RI)"
   ]
  },
  {
   "cell_type": "markdown",
   "metadata": {},
   "source": [
    "## 鲍鱼年龄预测数据集（使用的是第二次作业中经过处理后的数据集）"
   ]
  },
  {
   "cell_type": "code",
   "execution_count": 14,
   "metadata": {},
   "outputs": [
    {
     "name": "stdout",
     "output_type": "stream",
     "text": [
      "K-Means模型在鲍鱼年龄预测数据集上的纯度为： 0.7766339478094326\n",
      "K-Means模型在鲍鱼年龄预测数据集上的兰德系数为： 0.5161716185239915\n"
     ]
    }
   ],
   "source": [
    "D3 = pd.read_csv(\"D3.csv\", header=None)\n",
    "\n",
    "k3 = 3\n",
    "dataset3 = D3.iloc[:, 1:-1].values\n",
    "labels3 = D3.iloc[:, -1].values\n",
    "centroids3, clusterData3 = myKmeans(dataset3, k3)\n",
    "\n",
    "D3_Kmeans_purity = getPurity(labels3, clusterData3, k3)\n",
    "D3_Kmeans_RI = getRI(labels3, clusterData3, k3)\n",
    "\n",
    "print(\"K-Means模型在鲍鱼年龄预测数据集上的纯度为：\", D3_Kmeans_purity)\n",
    "print(\"K-Means模型在鲍鱼年龄预测数据集上的兰德系数为：\", D3_Kmeans_RI)"
   ]
  },
  {
   "cell_type": "code",
   "execution_count": 15,
   "metadata": {},
   "outputs": [
    {
     "name": "stdout",
     "output_type": "stream",
     "text": [
      "高斯混合模型在鲍鱼年龄预测数据集上的纯度为： 0.8125448886760833\n",
      "高斯混合模型模型在鲍鱼年龄预测数据集上的兰德系数为： 0.576241954435758\n"
     ]
    }
   ],
   "source": [
    "gmm.fit(dataset3)\n",
    "cluster_predict_D3_gmm = gmm.predict(dataset3)\n",
    "clusterData3_gmm = getclusterData(cluster_predict_D3_gmm)\n",
    "\n",
    "D3_gmm_purity = getPurity(labels3, clusterData3_gmm, k3)\n",
    "D3_gmm_RI = getRI(labels3, clusterData3_gmm, k3)\n",
    "\n",
    "print(\"高斯混合模型在鲍鱼年龄预测数据集上的纯度为：\", D3_gmm_purity)\n",
    "print(\"高斯混合模型模型在鲍鱼年龄预测数据集上的兰德系数为：\", D3_gmm_RI)"
   ]
  },
  {
   "cell_type": "code",
   "execution_count": 16,
   "metadata": {},
   "outputs": [
    {
     "name": "stdout",
     "output_type": "stream",
     "text": [
      "Birch模型在鲍鱼年龄预测数据集上的纯度为： 0.7785491979889874\n",
      "Birch模型模型在鲍鱼年龄预测数据集上的兰德系数为： 0.524131189133707\n"
     ]
    }
   ],
   "source": [
    "bir.fit(dataset3)\n",
    "cluster_predict_D3_bir = bir.predict(dataset3)\n",
    "clusterData3_bir = getclusterData(cluster_predict_D3_bir)\n",
    "\n",
    "D3_bir_purity = getPurity(labels3, clusterData3_bir, k3)\n",
    "D3_bir_RI = getRI(labels3, clusterData3_bir, k3)\n",
    "\n",
    "print(\"Birch模型在鲍鱼年龄预测数据集上的纯度为：\", D3_bir_purity)\n",
    "print(\"Birch模型模型在鲍鱼年龄预测数据集上的兰德系数为：\", D3_bir_RI)"
   ]
  },
  {
   "cell_type": "markdown",
   "metadata": {},
   "source": [
    "## 结果可视化"
   ]
  },
  {
   "cell_type": "code",
   "execution_count": 17,
   "metadata": {},
   "outputs": [],
   "source": [
    "import matplotlib.pyplot as plt"
   ]
  },
  {
   "cell_type": "code",
   "execution_count": 23,
   "metadata": {},
   "outputs": [],
   "source": [
    "x = np.arange(2)\n",
    "bar_width = 0.3\n",
    "tick_label = [\"Purity\", \"RI\"]"
   ]
  },
  {
   "cell_type": "code",
   "execution_count": 20,
   "metadata": {},
   "outputs": [],
   "source": [
    "y_D1_KMeans = [D1_Kmeans_purity, D1_Kmeans_RI]\n",
    "y_D1_gmm = [D1_gmm_purity, D1_gmm_RI]\n",
    "y_D1_bir = [D1_bir_purity, D1_bir_RI]"
   ]
  },
  {
   "cell_type": "code",
   "execution_count": 21,
   "metadata": {},
   "outputs": [],
   "source": [
    "y_D2_KMeans = [D2_Kmeans_purity, D2_Kmeans_RI]\n",
    "y_D2_gmm = [D2_gmm_purity, D2_gmm_RI]\n",
    "y_D2_bir = [D2_bir_purity, D2_bir_RI]"
   ]
  },
  {
   "cell_type": "code",
   "execution_count": 22,
   "metadata": {},
   "outputs": [],
   "source": [
    "y_D3_KMeans = [D3_Kmeans_purity, D3_Kmeans_RI]\n",
    "y_D3_gmm = [D3_gmm_purity, D3_gmm_RI]\n",
    "y_D3_bir = [D3_bir_purity, D3_bir_RI]"
   ]
  },
  {
   "cell_type": "code",
   "execution_count": 27,
   "metadata": {},
   "outputs": [
    {
     "data": {
      "image/png": "[encoded data removed]",
      "text/plain": [
       "<Figure size 720x720 with 1 Axes>"
      ]
     },
     "metadata": {
      "needs_background": "light"
     },
     "output_type": "display_data"
    }
   ],
   "source": [
    "plt.figure(figsize=(10, 10))\n",
    "plt.bar(x, y_D1_KMeans, bar_width, align=\"center\", color=\"c\", label=\"K-Means\")\n",
    "plt.bar(x+bar_width, y_D1_gmm, bar_width, align=\"center\", color=\"b\", label=\"GMM\")\n",
    "plt.bar(x+bar_width+bar_width, y_D1_bir, bar_width, align=\"center\", color=\"g\", label=\"Birth\")\n",
    "plt.xticks(x+bar_width/3, tick_label)\n",
    "plt.legend()\n",
    "plt.savefig('./D1.svg')\n",
    "plt.show()"
   ]
  },
  {
   "cell_type": "code",
   "execution_count": 28,
   "metadata": {},
   "outputs": [
    {
     "data": {
      "image/png": "[encoded data removed]",
      "text/plain": [
       "<Figure size 720x720 with 1 Axes>"
      ]
     },
     "metadata": {
      "needs_background": "light"
     },
     "output_type": "display_data"
    }
   ],
   "source": [
    "plt.figure(figsize=(10, 10))\n",
    "plt.bar(x, y_D2_KMeans, bar_width, align=\"center\", color=\"c\", label=\"K-Means\")\n",
    "plt.bar(x+bar_width, y_D2_gmm, bar_width, align=\"center\", color=\"b\", label=\"GMM\")\n",
    "plt.bar(x+bar_width+bar_width, y_D2_bir, bar_width, align=\"center\", color=\"g\", label=\"Birth\")\n",
    "plt.xticks(x+bar_width/3, tick_label)\n",
    "plt.legend()\n",
    "plt.savefig('./D2.svg')\n",
    "plt.show()"
   ]
  },
  {
   "cell_type": "code",
   "execution_count": 29,
   "metadata": {},
   "outputs": [
    {
     "data": {
      "image/png": "[encoded data removed]",
      "text/plain": [
       "<Figure size 720x720 with 1 Axes>"
      ]
     },
     "metadata": {
      "needs_background": "light"
     },
     "output_type": "display_data"
    }
   ],
   "source": [
    "plt.figure(figsize=(10, 10))\n",
    "plt.bar(x, y_D3_KMeans, bar_width, align=\"center\", color=\"c\", label=\"K-Means\")\n",
    "plt.bar(x+bar_width, y_D3_gmm, bar_width, align=\"center\", color=\"b\", label=\"GMM\")\n",
    "plt.bar(x+bar_width+bar_width, y_D3_bir, bar_width, align=\"center\", color=\"g\", label=\"Birth\")\n",
    "plt.xticks(x+bar_width/3, tick_label)\n",
    "plt.legend()\n",
    "plt.savefig('./D3.svg')\n",
    "plt.show()"
   ]
  }
 ],
 "metadata": {
  "kernelspec": {
   "display_name": "Python 3",
   "language": "python",
   "name": "python3"
  },
  "language_info": {
   "codemirror_mode": {
    "name": "ipython",
    "version": 3
   },
   "file_extension": ".py",
   "mimetype": "text/x-python",
   "name": "python",
   "nbconvert_exporter": "python",
   "pygments_lexer": "ipython3",
   "version": "3.7.6"
  }
 },
 "nbformat": 4,
 "nbformat_minor": 4
}
